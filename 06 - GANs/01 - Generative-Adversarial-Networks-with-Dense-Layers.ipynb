{
 "cells": [
  {
   "cell_type": "markdown",
   "id": "64536e87",
   "metadata": {},
   "source": [
    "# <a> GAN's [Geneartor Adverserial Networks]"
   ]
  },
  {
   "cell_type": "code",
   "execution_count": 1,
   "id": "6ee7d001",
   "metadata": {},
   "outputs": [],
   "source": [
    "import numpy as np\n",
    "import pandas as pd\n",
    "import matplotlib.pyplot as plt\n",
    "import seaborn as sns"
   ]
  },
  {
   "cell_type": "code",
   "execution_count": 2,
   "id": "114b8da6",
   "metadata": {},
   "outputs": [],
   "source": [
    "from tensorflow.keras.datasets import mnist"
   ]
  },
  {
   "cell_type": "code",
   "execution_count": 3,
   "id": "25662410",
   "metadata": {},
   "outputs": [],
   "source": [
    "(X_train, y_train),(X_test, y_test) = mnist.load_data()"
   ]
  },
  {
   "cell_type": "code",
   "execution_count": 4,
   "id": "86f00c76",
   "metadata": {},
   "outputs": [
    {
     "data": {
      "image/png": "[encoded data removed]",
      "text/plain": [
       "<Figure size 640x480 with 1 Axes>"
      ]
     },
     "metadata": {},
     "output_type": "display_data"
    }
   ],
   "source": [
    "plt.imshow(X_train[5]);"
   ]
  },
  {
   "cell_type": "code",
   "execution_count": 5,
   "id": "f161fa73",
   "metadata": {},
   "outputs": [
    {
     "data": {
      "text/plain": [
       "2"
      ]
     },
     "execution_count": 5,
     "metadata": {},
     "output_type": "execute_result"
    }
   ],
   "source": [
    "y_train[5]"
   ]
  },
  {
   "cell_type": "markdown",
   "id": "5859f9ce",
   "metadata": {},
   "source": [
    "# <a> Filtering out the Data for faster training on smaller dataset\n",
    "\n",
    "## <a> Filtering out zeros only "
   ]
  },
  {
   "cell_type": "code",
   "execution_count": 6,
   "id": "f1d8e914",
   "metadata": {},
   "outputs": [],
   "source": [
    "only_zeros = X_train[y_train==0]"
   ]
  },
  {
   "cell_type": "code",
   "execution_count": 7,
   "id": "9a036ee2",
   "metadata": {},
   "outputs": [
    {
     "data": {
      "text/plain": [
       "(5923, 28, 28)"
      ]
     },
     "execution_count": 7,
     "metadata": {},
     "output_type": "execute_result"
    }
   ],
   "source": [
    "only_zeros.shape"
   ]
  },
  {
   "cell_type": "code",
   "execution_count": 8,
   "id": "71a165aa",
   "metadata": {},
   "outputs": [
    {
     "data": {
      "text/plain": [
       "(60000, 28, 28)"
      ]
     },
     "execution_count": 8,
     "metadata": {},
     "output_type": "execute_result"
    }
   ],
   "source": [
    "X_train.shape"
   ]
  },
  {
   "cell_type": "code",
   "execution_count": 9,
   "id": "0bd16508",
   "metadata": {},
   "outputs": [
    {
     "data": {
      "image/png": "[encoded data removed]",
      "text/plain": [
       "<Figure size 640x480 with 1 Axes>"
      ]
     },
     "metadata": {},
     "output_type": "display_data"
    }
   ],
   "source": [
    "plt.imshow(only_zeros[1]);"
   ]
  },
  {
   "cell_type": "markdown",
   "id": "b2d32883",
   "metadata": {},
   "source": [
    "----------\n",
    "----------"
   ]
  },
  {
   "cell_type": "markdown",
   "id": "3acb946a",
   "metadata": {},
   "source": [
    "# <a> Build GAN's"
   ]
  },
  {
   "cell_type": "code",
   "execution_count": 10,
   "id": "3a3295c9",
   "metadata": {},
   "outputs": [],
   "source": [
    "from tensorflow.keras.models import Sequential\n",
    "from tensorflow.keras.layers import Dense, Flatten, Reshape\n",
    "import tensorflow as tf"
   ]
  },
  {
   "cell_type": "code",
   "execution_count": 11,
   "id": "ee4ccb91",
   "metadata": {},
   "outputs": [
    {
     "data": {
      "text/plain": [
       "(60000, 28, 28)"
      ]
     },
     "execution_count": 11,
     "metadata": {},
     "output_type": "execute_result"
    }
   ],
   "source": [
    "X_train.shape"
   ]
  },
  {
   "cell_type": "markdown",
   "id": "23e305df",
   "metadata": {},
   "source": [
    "# <a> Discriminator"
   ]
  },
  {
   "cell_type": "markdown",
   "id": "5c011ca2",
   "metadata": {},
   "source": [
    "- First we need to flatten images from 2D to 1D\n",
    "- we can add any number of hidden layers for Discriminator to be harder to fool, but in our case 2 enough\n",
    "- For the final output layers. activation needs to be `Sigmoid`. because what discriminator is doing is doing binary classificastion whather image is Real or Fake\n",
    "- As a result, we need to use `bnary crossentropy`"
   ]
  },
  {
   "cell_type": "code",
   "execution_count": 12,
   "id": "045c899d",
   "metadata": {},
   "outputs": [],
   "source": [
    "discriminator = Sequential()\n",
    "\n",
    "discriminator.add(Flatten(input_shape=[28, 28]))\n",
    "\n",
    "discriminator.add(Dense(150, activation='relu'))\n",
    "discriminator.add(Dense(100, activation='relu'))\n",
    "\n",
    "# final output layers\n",
    "discriminator.add(Dense(1, activation='sigmoid'))\n",
    "\n",
    "# compile\n",
    "discriminator.compile(loss='binary_crossentropy', optimizer='adam')"
   ]
  },
  {
   "cell_type": "markdown",
   "id": "a9b56d0e",
   "metadata": {},
   "source": [
    "# <a> Generator"
   ]
  },
  {
   "cell_type": "markdown",
   "id": "2e7f0671",
   "metadata": {},
   "source": [
    "- Generator looks for middle number (in this case 30) which is lowest dimensionality. Example: 784 => 150 => [30] => 150 => 784\n",
    "- Actual Generator looks a lot like Decoder Part , where takes in some sort of encoding and expanding it back out to some of output(image) trying to fool the Discriminator.\n",
    "- So we have to choose codings_size and there is no right or wrong answer. It is essentially how low do we want to go down. Typically it should be a lot less than original features set.\n",
    " - if we put too small, it can't learn to start off the image."
   ]
  },
  {
   "cell_type": "code",
   "execution_count": 13,
   "id": "f09f66b6",
   "metadata": {},
   "outputs": [],
   "source": [
    "tf.random.set_seed(42)"
   ]
  },
  {
   "cell_type": "code",
   "execution_count": 14,
   "id": "85f2e995",
   "metadata": {},
   "outputs": [],
   "source": [
    "coding_size =100"
   ]
  },
  {
   "cell_type": "code",
   "execution_count": 15,
   "id": "89d81f94",
   "metadata": {},
   "outputs": [],
   "source": [
    "# 100 => 150 => 784\n",
    "\n",
    "generator = Sequential()\n",
    "\n",
    "generator.add(Dense(100, activation='relu', input_shape=[coding_size]))\n",
    "generator.add(Dense(150, activation='relu'))\n",
    "generator.add(Dense(784, activation='relu'))\n",
    "\n",
    "generator.add(Reshape([28, 28]))"
   ]
  },
  {
   "cell_type": "markdown",
   "id": "f3d87413",
   "metadata": {},
   "source": [
    "# <a> Combine generator and discriminator as GAN's and compile"
   ]
  },
  {
   "cell_type": "markdown",
   "id": "56fa4d8c",
   "metadata": {},
   "source": [
    "- GAN full model itself is binary classifier. that's why it uses binary_crossentrophy\n",
    "- Discriminator shouldn't be trained in GAN compiling phase."
   ]
  },
  {
   "cell_type": "code",
   "execution_count": 16,
   "id": "317a8369",
   "metadata": {},
   "outputs": [],
   "source": [
    "GAN  = Sequential([generator, discriminator])"
   ]
  },
  {
   "cell_type": "code",
   "execution_count": 17,
   "id": "8d9150d5",
   "metadata": {},
   "outputs": [],
   "source": [
    "discriminator.trainable = False"
   ]
  },
  {
   "cell_type": "code",
   "execution_count": 18,
   "id": "fc062fdd",
   "metadata": {},
   "outputs": [],
   "source": [
    "GAN.compile(loss='binary_crossentropy', optimizer='adam')"
   ]
  },
  {
   "cell_type": "code",
   "execution_count": 19,
   "id": "08b0f284",
   "metadata": {},
   "outputs": [
    {
     "data": {
      "text/plain": [
       "[<keras.src.engine.sequential.Sequential at 0x1bafd1a0850>,\n",
       " <keras.src.engine.sequential.Sequential at 0x1bafbb79220>]"
      ]
     },
     "execution_count": 19,
     "metadata": {},
     "output_type": "execute_result"
    }
   ],
   "source": [
    "GAN.layers"
   ]
  },
  {
   "cell_type": "code",
   "execution_count": 20,
   "id": "c8437dfe",
   "metadata": {},
   "outputs": [
    {
     "name": "stdout",
     "output_type": "stream",
     "text": [
      "Model: \"sequential_2\"\n",
      "_________________________________________________________________\n",
      " Layer (type)                Output Shape              Param #   \n",
      "=================================================================\n",
      " sequential_1 (Sequential)   (None, 28, 28)            143634    \n",
      "                                                                 \n",
      " sequential (Sequential)     (None, 1)                 132951    \n",
      "                                                                 \n",
      "=================================================================\n",
      "Total params: 276585 (1.06 MB)\n",
      "Trainable params: 143634 (561.07 KB)\n",
      "Non-trainable params: 132951 (519.34 KB)\n",
      "_________________________________________________________________\n"
     ]
    }
   ],
   "source": [
    "GAN.summary()"
   ]
  },
  {
   "cell_type": "code",
   "execution_count": 21,
   "id": "3139175b",
   "metadata": {},
   "outputs": [
    {
     "name": "stdout",
     "output_type": "stream",
     "text": [
      "Model: \"sequential_1\"\n",
      "_________________________________________________________________\n",
      " Layer (type)                Output Shape              Param #   \n",
      "=================================================================\n",
      " dense_3 (Dense)             (None, 100)               10100     \n",
      "                                                                 \n",
      " dense_4 (Dense)             (None, 150)               15150     \n",
      "                                                                 \n",
      " dense_5 (Dense)             (None, 784)               118384    \n",
      "                                                                 \n",
      " reshape (Reshape)           (None, 28, 28)            0         \n",
      "                                                                 \n",
      "=================================================================\n",
      "Total params: 143634 (561.07 KB)\n",
      "Trainable params: 143634 (561.07 KB)\n",
      "Non-trainable params: 0 (0.00 Byte)\n",
      "_________________________________________________________________\n"
     ]
    }
   ],
   "source": [
    "GAN.layers[0].summary()"
   ]
  },
  {
   "cell_type": "code",
   "execution_count": 22,
   "id": "e56b9c27",
   "metadata": {},
   "outputs": [
    {
     "name": "stdout",
     "output_type": "stream",
     "text": [
      "Model: \"sequential\"\n",
      "_________________________________________________________________\n",
      " Layer (type)                Output Shape              Param #   \n",
      "=================================================================\n",
      " flatten (Flatten)           (None, 784)               0         \n",
      "                                                                 \n",
      " dense (Dense)               (None, 150)               117750    \n",
      "                                                                 \n",
      " dense_1 (Dense)             (None, 100)               15100     \n",
      "                                                                 \n",
      " dense_2 (Dense)             (None, 1)                 101       \n",
      "                                                                 \n",
      "=================================================================\n",
      "Total params: 132951 (519.34 KB)\n",
      "Trainable params: 0 (0.00 Byte)\n",
      "Non-trainable params: 132951 (519.34 KB)\n",
      "_________________________________________________________________\n"
     ]
    }
   ],
   "source": [
    "GAN.layers[1].summary()"
   ]
  },
  {
   "cell_type": "markdown",
   "id": "0d471541",
   "metadata": {},
   "source": [
    "# <a> Setting up batchs"
   ]
  },
  {
   "cell_type": "code",
   "execution_count": 23,
   "id": "72f47dbe",
   "metadata": {},
   "outputs": [],
   "source": [
    "batch_size = 32"
   ]
  },
  {
   "cell_type": "code",
   "execution_count": 24,
   "id": "0d70e1bb",
   "metadata": {},
   "outputs": [],
   "source": [
    "# data\n",
    "my_data = only_zeros"
   ]
  },
  {
   "cell_type": "markdown",
   "id": "3231ad87",
   "metadata": {},
   "source": [
    "# <a> Shuffle the data"
   ]
  },
  {
   "cell_type": "code",
   "execution_count": 25,
   "id": "50dcff63",
   "metadata": {},
   "outputs": [],
   "source": [
    "dataset = tf.data.Dataset.from_tensor_slices(my_data).shuffle(buffer_size =1000)"
   ]
  },
  {
   "cell_type": "code",
   "execution_count": 26,
   "id": "3604a45e",
   "metadata": {},
   "outputs": [
    {
     "data": {
      "text/plain": [
       "tensorflow.python.data.ops.shuffle_op._ShuffleDataset"
      ]
     },
     "execution_count": 26,
     "metadata": {},
     "output_type": "execute_result"
    }
   ],
   "source": [
    "type(dataset)"
   ]
  },
  {
   "cell_type": "markdown",
   "id": "2079b9ed",
   "metadata": {},
   "source": [
    "# <a> Actualy setting up batch"
   ]
  },
  {
   "cell_type": "code",
   "execution_count": 27,
   "id": "bd67b147",
   "metadata": {},
   "outputs": [],
   "source": [
    "dataset = dataset.batch(batch_size =32, drop_remainder=True).prefetch(1)"
   ]
  },
  {
   "cell_type": "code",
   "execution_count": 28,
   "id": "be9fde90",
   "metadata": {},
   "outputs": [
    {
     "data": {
      "text/plain": [
       "185.09375"
      ]
     },
     "execution_count": 28,
     "metadata": {},
     "output_type": "execute_result"
    }
   ],
   "source": [
    "len(my_data)/ batch_size"
   ]
  },
  {
   "cell_type": "markdown",
   "id": "59b3cdef",
   "metadata": {},
   "source": [
    "# <a> Training Loops"
   ]
  },
  {
   "cell_type": "code",
   "execution_count": 29,
   "id": "11752817",
   "metadata": {},
   "outputs": [
    {
     "data": {
      "text/plain": [
       "[0.0, 0.0, 0.0, 0.0, 0.0, 0.0, 0.0, 0.0, 0.0, 0.0]"
      ]
     },
     "execution_count": 29,
     "metadata": {},
     "output_type": "execute_result"
    }
   ],
   "source": [
    "[0.0] * 10"
   ]
  },
  {
   "cell_type": "code",
   "execution_count": 30,
   "id": "6f70b659",
   "metadata": {},
   "outputs": [
    {
     "data": {
      "text/plain": [
       "[[0.0],\n",
       " [0.0],\n",
       " [0.0],\n",
       " [0.0],\n",
       " [0.0],\n",
       " [0.0],\n",
       " [0.0],\n",
       " [0.0],\n",
       " [0.0],\n",
       " [0.0],\n",
       " [0.0],\n",
       " [0.0],\n",
       " [0.0],\n",
       " [0.0],\n",
       " [0.0],\n",
       " [0.0],\n",
       " [0.0],\n",
       " [0.0],\n",
       " [0.0],\n",
       " [0.0],\n",
       " [0.0],\n",
       " [0.0],\n",
       " [0.0],\n",
       " [0.0],\n",
       " [0.0],\n",
       " [0.0],\n",
       " [0.0],\n",
       " [0.0],\n",
       " [0.0],\n",
       " [0.0],\n",
       " [0.0],\n",
       " [0.0],\n",
       " [1.0],\n",
       " [1.0],\n",
       " [1.0],\n",
       " [1.0],\n",
       " [1.0],\n",
       " [1.0],\n",
       " [1.0],\n",
       " [1.0],\n",
       " [1.0],\n",
       " [1.0],\n",
       " [1.0],\n",
       " [1.0],\n",
       " [1.0],\n",
       " [1.0],\n",
       " [1.0],\n",
       " [1.0],\n",
       " [1.0],\n",
       " [1.0],\n",
       " [1.0],\n",
       " [1.0],\n",
       " [1.0],\n",
       " [1.0],\n",
       " [1.0],\n",
       " [1.0],\n",
       " [1.0],\n",
       " [1.0],\n",
       " [1.0],\n",
       " [1.0],\n",
       " [1.0],\n",
       " [1.0],\n",
       " [1.0],\n",
       " [1.0]]"
      ]
     },
     "execution_count": 30,
     "metadata": {},
     "output_type": "execute_result"
    }
   ],
   "source": [
    "[[0.0]] * batch_size + [[1.0]] * batch_size"
   ]
  },
  {
   "cell_type": "code",
   "execution_count": 31,
   "id": "15d2ad3f",
   "metadata": {},
   "outputs": [],
   "source": [
    "epochs = 1"
   ]
  },
  {
   "cell_type": "code",
   "execution_count": 32,
   "id": "0fd42756",
   "metadata": {},
   "outputs": [],
   "source": [
    "generator, discriminator = GAN.layers"
   ]
  },
  {
   "cell_type": "code",
   "execution_count": 33,
   "id": "7dc818d1",
   "metadata": {},
   "outputs": [
    {
     "name": "stdout",
     "output_type": "stream",
     "text": [
      "Currently epoch 1\n",
      "Currenty on batch number 10 of 185\n",
      "Currenty on batch number 20 of 185\n",
      "Currenty on batch number 30 of 185\n",
      "Currenty on batch number 40 of 185\n",
      "Currenty on batch number 50 of 185\n",
      "Currenty on batch number 60 of 185\n",
      "Currenty on batch number 70 of 185\n",
      "Currenty on batch number 80 of 185\n",
      "Currenty on batch number 90 of 185\n",
      "Currenty on batch number 100 of 185\n",
      "Currenty on batch number 110 of 185\n",
      "Currenty on batch number 120 of 185\n",
      "Currenty on batch number 130 of 185\n",
      "Currenty on batch number 140 of 185\n",
      "Currenty on batch number 150 of 185\n",
      "Currenty on batch number 160 of 185\n",
      "Currenty on batch number 170 of 185\n",
      "Currenty on batch number 180 of 185\n",
      "Training Complete\n"
     ]
    }
   ],
   "source": [
    "for epoch in range(epochs):\n",
    "    print(f'Currently epoch {epoch + 1}')\n",
    "    \n",
    "    i = 0\n",
    "    \n",
    "    # for every batch in dataset\n",
    "    for X_batch in dataset:\n",
    "        i = i+1\n",
    "        \n",
    "        if i%10 == 0:\n",
    "            print(f'Currenty on batch number {i} of {len(my_data)//batch_size}')\n",
    "            \n",
    "            \n",
    "        ############### \n",
    "        ## disriminator train phase\n",
    "        \n",
    "        # 1. create noise\n",
    "        noise = tf.random.normal(shape=[batch_size, coding_size])\n",
    "        \n",
    "        # 2. Generate image noise\n",
    "        gen_image = generator(noise)\n",
    "        \n",
    "        # 3. concat fake image vs real image\n",
    "        X_fake_vs_real = tf.concat([gen_image, tf.dtypes.cast(X_batch, tf.float32)], axis =0)\n",
    "        \n",
    "        # 4. target label - set 0 for fake image and 1 for real image\n",
    "        y1 = tf.constant([[0.0]] * batch_size + [[1.0]] * batch_size)\n",
    "        \n",
    "        # 5. disriminator setting True \n",
    "        discriminator.trainable = True\n",
    "        \n",
    "        # 6. discriminator train batch\n",
    "        discriminator.train_on_batch(X_fake_vs_real, y1)\n",
    "        \n",
    "        ######################\n",
    "        ## generator train phase\n",
    "        \n",
    "        # 1. create noise\n",
    "        noise = tf.random.normal(shape=[batch_size, coding_size])\n",
    "        \n",
    "        # 2. we want discriminator belive that fake images or real\n",
    "        y2 = tf.constant([[1.0]] * batch_size)\n",
    "        \n",
    "        # 3. discriminator stop\n",
    "        discriminator.trainale = False\n",
    "        \n",
    "        # 4 . training on GAN\n",
    "        GAN.train_on_batch(noise, y2)\n",
    "        \n",
    "print(f'Training Complete')"
   ]
  },
  {
   "cell_type": "markdown",
   "id": "a77fa267",
   "metadata": {},
   "source": [
    "# <a> Generating image after training"
   ]
  },
  {
   "cell_type": "code",
   "execution_count": 34,
   "id": "3a706275",
   "metadata": {},
   "outputs": [],
   "source": [
    "noise = tf.random.normal(shape=[10, coding_size])"
   ]
  },
  {
   "cell_type": "code",
   "execution_count": 35,
   "id": "23108657",
   "metadata": {},
   "outputs": [
    {
     "data": {
      "text/plain": [
       "TensorShape([10, 100])"
      ]
     },
     "execution_count": 35,
     "metadata": {},
     "output_type": "execute_result"
    }
   ],
   "source": [
    "noise.shape"
   ]
  },
  {
   "cell_type": "code",
   "execution_count": 36,
   "id": "876d0a32",
   "metadata": {},
   "outputs": [
    {
     "data": {
      "text/plain": [
       "<matplotlib.image.AxesImage at 0x1baffa941c0>"
      ]
     },
     "execution_count": 36,
     "metadata": {},
     "output_type": "execute_result"
    },
    {
     "data": {
      "image/png": "[encoded data removed]",
      "text/plain": [
       "<Figure size 640x480 with 1 Axes>"
      ]
     },
     "metadata": {},
     "output_type": "display_data"
    }
   ],
   "source": [
    "plt.imshow(noise)"
   ]
  },
  {
   "cell_type": "code",
   "execution_count": 37,
   "id": "f1d0f1d5",
   "metadata": {},
   "outputs": [],
   "source": [
    "images = generator(noise)"
   ]
  },
  {
   "cell_type": "code",
   "execution_count": 38,
   "id": "7480d9af",
   "metadata": {},
   "outputs": [
    {
     "data": {
      "text/plain": [
       "TensorShape([10, 28, 28])"
      ]
     },
     "execution_count": 38,
     "metadata": {},
     "output_type": "execute_result"
    }
   ],
   "source": [
    "images.shape"
   ]
  },
  {
   "cell_type": "code",
   "execution_count": 39,
   "id": "37e2bba2",
   "metadata": {},
   "outputs": [
    {
     "data": {
      "image/png": "[encoded data removed]",
      "text/plain": [
       "<Figure size 640x480 with 1 Axes>"
      ]
     },
     "metadata": {},
     "output_type": "display_data"
    }
   ],
   "source": [
    "plt.imshow(images[3]);"
   ]
  },
  {
   "cell_type": "code",
   "execution_count": 40,
   "id": "99e2f60e",
   "metadata": {},
   "outputs": [
    {
     "data": {
      "image/png": "[encoded data removed]",
      "text/plain": [
       "<Figure size 640x480 with 1 Axes>"
      ]
     },
     "metadata": {},
     "output_type": "display_data"
    }
   ],
   "source": [
    "plt.imshow(images[1]);"
   ]
  },
  {
   "cell_type": "code",
   "execution_count": 41,
   "id": "94ea9317",
   "metadata": {},
   "outputs": [
    {
     "data": {
      "image/png": "[encoded data removed]",
      "text/plain": [
       "<Figure size 640x480 with 1 Axes>"
      ]
     },
     "metadata": {},
     "output_type": "display_data"
    }
   ],
   "source": [
    "plt.imshow(images[7]);"
   ]
  }
 ],
 "metadata": {
  "kernelspec": {
   "display_name": "Python 3 (ipykernel)",
   "language": "python",
   "name": "python3"
  },
  "language_info": {
   "codemirror_mode": {
    "name": "ipython",
    "version": 3
   },
   "file_extension": ".py",
   "mimetype": "text/x-python",
   "name": "python",
   "nbconvert_exporter": "python",
   "pygments_lexer": "ipython3",
   "version": "3.9.13"
  }
 },
 "nbformat": 4,
 "nbformat_minor": 5
}
