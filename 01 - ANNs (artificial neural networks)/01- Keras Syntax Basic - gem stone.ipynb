{
 "cells": [
  {
   "cell_type": "markdown",
   "id": "565ba871",
   "metadata": {},
   "source": [
    "##  Keras Syntax Basic\n",
    "\n",
    "Memprediksi batu permata bedasarkan featurnya"
   ]
  },
  {
   "cell_type": "code",
   "execution_count": 1,
   "id": "2ea5389b",
   "metadata": {},
   "outputs": [],
   "source": [
    "import numpy as np\n",
    "import pandas as pd\n",
    "import matplotlib.pyplot as plt\n",
    "import seaborn as sns"
   ]
  },
  {
   "cell_type": "code",
   "execution_count": 2,
   "id": "2427753d",
   "metadata": {},
   "outputs": [],
   "source": [
    "df = pd.read_csv(r'C:\\Users\\Data\\data tensorflow\\fake_reg.csv')"
   ]
  },
  {
   "cell_type": "code",
   "execution_count": 3,
   "id": "cc0a674c",
   "metadata": {},
   "outputs": [
    {
     "data": {
      "text/html": [
       "<div>\n",
       "<style scoped>\n",
       "    .dataframe tbody tr th:only-of-type {\n",
       "        vertical-align: middle;\n",
       "    }\n",
       "\n",
       "    .dataframe tbody tr th {\n",
       "        vertical-align: top;\n",
       "    }\n",
       "\n",
       "    .dataframe thead th {\n",
       "        text-align: right;\n",
       "    }\n",
       "</style>\n",
       "<table border=\"1\" class=\"dataframe\">\n",
       "  <thead>\n",
       "    <tr style=\"text-align: right;\">\n",
       "      <th></th>\n",
       "      <th>price</th>\n",
       "      <th>feature1</th>\n",
       "      <th>feature2</th>\n",
       "    </tr>\n",
       "  </thead>\n",
       "  <tbody>\n",
       "    <tr>\n",
       "      <th>0</th>\n",
       "      <td>461.527929</td>\n",
       "      <td>999.787558</td>\n",
       "      <td>999.766096</td>\n",
       "    </tr>\n",
       "    <tr>\n",
       "      <th>1</th>\n",
       "      <td>548.130011</td>\n",
       "      <td>998.861615</td>\n",
       "      <td>1001.042403</td>\n",
       "    </tr>\n",
       "    <tr>\n",
       "      <th>2</th>\n",
       "      <td>410.297162</td>\n",
       "      <td>1000.070267</td>\n",
       "      <td>998.844015</td>\n",
       "    </tr>\n",
       "    <tr>\n",
       "      <th>3</th>\n",
       "      <td>540.382220</td>\n",
       "      <td>999.952251</td>\n",
       "      <td>1000.440940</td>\n",
       "    </tr>\n",
       "    <tr>\n",
       "      <th>4</th>\n",
       "      <td>546.024553</td>\n",
       "      <td>1000.446011</td>\n",
       "      <td>1000.338531</td>\n",
       "    </tr>\n",
       "  </tbody>\n",
       "</table>\n",
       "</div>"
      ],
      "text/plain": [
       "        price     feature1     feature2\n",
       "0  461.527929   999.787558   999.766096\n",
       "1  548.130011   998.861615  1001.042403\n",
       "2  410.297162  1000.070267   998.844015\n",
       "3  540.382220   999.952251  1000.440940\n",
       "4  546.024553  1000.446011  1000.338531"
      ]
     },
     "execution_count": 3,
     "metadata": {},
     "output_type": "execute_result"
    }
   ],
   "source": [
    "df.head()"
   ]
  },
  {
   "cell_type": "markdown",
   "id": "9fce6ff6",
   "metadata": {},
   "source": [
    "## EDA"
   ]
  },
  {
   "cell_type": "code",
   "execution_count": 4,
   "id": "de4d96ff",
   "metadata": {},
   "outputs": [
    {
     "data": {
      "text/plain": [
       "(1000, 3)"
      ]
     },
     "execution_count": 4,
     "metadata": {},
     "output_type": "execute_result"
    }
   ],
   "source": [
    "df.shape"
   ]
  },
  {
   "cell_type": "code",
   "execution_count": 5,
   "id": "89b34b3e",
   "metadata": {},
   "outputs": [
    {
     "name": "stdout",
     "output_type": "stream",
     "text": [
      "<class 'pandas.core.frame.DataFrame'>\n",
      "RangeIndex: 1000 entries, 0 to 999\n",
      "Data columns (total 3 columns):\n",
      " #   Column    Non-Null Count  Dtype  \n",
      "---  ------    --------------  -----  \n",
      " 0   price     1000 non-null   float64\n",
      " 1   feature1  1000 non-null   float64\n",
      " 2   feature2  1000 non-null   float64\n",
      "dtypes: float64(3)\n",
      "memory usage: 23.6 KB\n"
     ]
    }
   ],
   "source": [
    "df.info()"
   ]
  },
  {
   "cell_type": "code",
   "execution_count": 6,
   "id": "2f5fe56f",
   "metadata": {},
   "outputs": [
    {
     "data": {
      "text/html": [
       "<div>\n",
       "<style scoped>\n",
       "    .dataframe tbody tr th:only-of-type {\n",
       "        vertical-align: middle;\n",
       "    }\n",
       "\n",
       "    .dataframe tbody tr th {\n",
       "        vertical-align: top;\n",
       "    }\n",
       "\n",
       "    .dataframe thead th {\n",
       "        text-align: right;\n",
       "    }\n",
       "</style>\n",
       "<table border=\"1\" class=\"dataframe\">\n",
       "  <thead>\n",
       "    <tr style=\"text-align: right;\">\n",
       "      <th></th>\n",
       "      <th>count</th>\n",
       "      <th>mean</th>\n",
       "      <th>std</th>\n",
       "      <th>min</th>\n",
       "      <th>25%</th>\n",
       "      <th>50%</th>\n",
       "      <th>75%</th>\n",
       "      <th>max</th>\n",
       "    </tr>\n",
       "  </thead>\n",
       "  <tbody>\n",
       "    <tr>\n",
       "      <th>price</th>\n",
       "      <td>1000.0</td>\n",
       "      <td>498.673029</td>\n",
       "      <td>93.785431</td>\n",
       "      <td>223.346793</td>\n",
       "      <td>433.025732</td>\n",
       "      <td>502.382117</td>\n",
       "      <td>564.921588</td>\n",
       "      <td>774.407854</td>\n",
       "    </tr>\n",
       "    <tr>\n",
       "      <th>feature1</th>\n",
       "      <td>1000.0</td>\n",
       "      <td>1000.014171</td>\n",
       "      <td>0.974018</td>\n",
       "      <td>997.058347</td>\n",
       "      <td>999.332068</td>\n",
       "      <td>1000.009915</td>\n",
       "      <td>1000.637580</td>\n",
       "      <td>1003.207934</td>\n",
       "    </tr>\n",
       "    <tr>\n",
       "      <th>feature2</th>\n",
       "      <td>1000.0</td>\n",
       "      <td>999.979847</td>\n",
       "      <td>0.948330</td>\n",
       "      <td>996.995651</td>\n",
       "      <td>999.316106</td>\n",
       "      <td>1000.002243</td>\n",
       "      <td>1000.645380</td>\n",
       "      <td>1002.666308</td>\n",
       "    </tr>\n",
       "  </tbody>\n",
       "</table>\n",
       "</div>"
      ],
      "text/plain": [
       "           count         mean        std         min         25%          50%  \\\n",
       "price     1000.0   498.673029  93.785431  223.346793  433.025732   502.382117   \n",
       "feature1  1000.0  1000.014171   0.974018  997.058347  999.332068  1000.009915   \n",
       "feature2  1000.0   999.979847   0.948330  996.995651  999.316106  1000.002243   \n",
       "\n",
       "                  75%          max  \n",
       "price      564.921588   774.407854  \n",
       "feature1  1000.637580  1003.207934  \n",
       "feature2  1000.645380  1002.666308  "
      ]
     },
     "execution_count": 6,
     "metadata": {},
     "output_type": "execute_result"
    }
   ],
   "source": [
    "df.describe().T"
   ]
  },
  {
   "cell_type": "code",
   "execution_count": 7,
   "id": "bad67c06",
   "metadata": {},
   "outputs": [
    {
     "data": {
      "image/png": "[encoded data removed]",
      "text/plain": [
       "<Figure size 540x540 with 12 Axes>"
      ]
     },
     "metadata": {
      "needs_background": "light"
     },
     "output_type": "display_data"
    }
   ],
   "source": [
    "sns.pairplot(df);"
   ]
  },
  {
   "cell_type": "markdown",
   "id": "48021de2",
   "metadata": {},
   "source": [
    "----------\n",
    "## Train Test Split"
   ]
  },
  {
   "cell_type": "code",
   "execution_count": 8,
   "id": "1e7e63ef",
   "metadata": {},
   "outputs": [],
   "source": [
    "X = df[['feature1','feature2']].values\n",
    "y = df['price'].values"
   ]
  },
  {
   "cell_type": "code",
   "execution_count": 9,
   "id": "ceb6751a",
   "metadata": {},
   "outputs": [],
   "source": [
    "from sklearn.model_selection import train_test_split"
   ]
  },
  {
   "cell_type": "code",
   "execution_count": 10,
   "id": "8afb0730",
   "metadata": {},
   "outputs": [],
   "source": [
    "X_train, X_test, y_train, y_test =  train_test_split(X,y, test_size=0.30, random_state = 42)"
   ]
  },
  {
   "cell_type": "code",
   "execution_count": 11,
   "id": "74198f8e",
   "metadata": {},
   "outputs": [
    {
     "data": {
      "text/plain": [
       "(700, 2)"
      ]
     },
     "execution_count": 11,
     "metadata": {},
     "output_type": "execute_result"
    }
   ],
   "source": [
    "X_train.shape"
   ]
  },
  {
   "cell_type": "code",
   "execution_count": 12,
   "id": "5b91a8aa",
   "metadata": {},
   "outputs": [
    {
     "data": {
      "text/plain": [
       "(300, 2)"
      ]
     },
     "execution_count": 12,
     "metadata": {},
     "output_type": "execute_result"
    }
   ],
   "source": [
    "X_test.shape"
   ]
  },
  {
   "cell_type": "code",
   "execution_count": 13,
   "id": "b8d714cb",
   "metadata": {},
   "outputs": [
    {
     "data": {
      "text/plain": [
       "(700,)"
      ]
     },
     "execution_count": 13,
     "metadata": {},
     "output_type": "execute_result"
    }
   ],
   "source": [
    "y_train.shape"
   ]
  },
  {
   "cell_type": "code",
   "execution_count": 14,
   "id": "7d988d6f",
   "metadata": {},
   "outputs": [
    {
     "data": {
      "text/plain": [
       "(300,)"
      ]
     },
     "execution_count": 14,
     "metadata": {},
     "output_type": "execute_result"
    }
   ],
   "source": [
    "y_test.shape"
   ]
  },
  {
   "cell_type": "markdown",
   "id": "68df2ac2",
   "metadata": {},
   "source": [
    "------\n",
    "\n",
    "## Scaler data"
   ]
  },
  {
   "cell_type": "code",
   "execution_count": 15,
   "id": "488dd551",
   "metadata": {},
   "outputs": [],
   "source": [
    "from sklearn.preprocessing import MinMaxScaler"
   ]
  },
  {
   "cell_type": "code",
   "execution_count": 16,
   "id": "a0cf2039",
   "metadata": {},
   "outputs": [],
   "source": [
    "scaler = MinMaxScaler()"
   ]
  },
  {
   "cell_type": "code",
   "execution_count": 17,
   "id": "45f8aae3",
   "metadata": {},
   "outputs": [],
   "source": [
    "X_train = scaler.fit_transform(X_train)\n",
    "X_test = scaler.transform(X_test)"
   ]
  },
  {
   "cell_type": "markdown",
   "id": "d39acad9",
   "metadata": {},
   "source": [
    "------------\n",
    "## Create Model"
   ]
  },
  {
   "cell_type": "code",
   "execution_count": 18,
   "id": "ea3ffd08",
   "metadata": {},
   "outputs": [],
   "source": [
    "from tensorflow.keras.models import Sequential\n",
    "from tensorflow.keras.layers import Dense"
   ]
  },
  {
   "cell_type": "code",
   "execution_count": 19,
   "id": "07832002",
   "metadata": {},
   "outputs": [],
   "source": [
    "model = Sequential()\n",
    "\n",
    "model.add(Dense(4, activation ='relu')) # input layers\n",
    "model.add(Dense(4, activation ='relu')) # hidden layers\n",
    "model.add(Dense(4, activation ='relu')) # hidden layers\n",
    "\n",
    "model.add(Dense(1)) # output layers\n",
    "\n",
    "# model compile\n",
    "model.compile(loss='mse', optimizer= 'rmsprop')"
   ]
  },
  {
   "cell_type": "markdown",
   "id": "8ea11975",
   "metadata": {},
   "source": [
    "## Fitting Model"
   ]
  },
  {
   "cell_type": "code",
   "execution_count": 20,
   "id": "c1d4ec9a",
   "metadata": {},
   "outputs": [
    {
     "name": "stdout",
     "output_type": "stream",
     "text": [
      "Epoch 1/250\n",
      "22/22 [==============================] - 4s 6ms/step - loss: 256315.0469\n",
      "Epoch 2/250\n",
      "22/22 [==============================] - 0s 6ms/step - loss: 256120.3594\n",
      "Epoch 3/250\n",
      "22/22 [==============================] - 0s 6ms/step - loss: 255921.7656\n",
      "Epoch 4/250\n",
      "22/22 [==============================] - 0s 6ms/step - loss: 255697.8750\n",
      "Epoch 5/250\n",
      "22/22 [==============================] - 0s 6ms/step - loss: 255445.6250\n",
      "Epoch 6/250\n",
      "22/22 [==============================] - 0s 6ms/step - loss: 255163.0625\n",
      "Epoch 7/250\n",
      "22/22 [==============================] - 0s 7ms/step - loss: 254847.7188\n",
      "Epoch 8/250\n",
      "22/22 [==============================] - 0s 7ms/step - loss: 254495.7500\n",
      "Epoch 9/250\n",
      "22/22 [==============================] - 0s 6ms/step - loss: 254101.4688\n",
      "Epoch 10/250\n",
      "22/22 [==============================] - 0s 6ms/step - loss: 253665.0469\n",
      "Epoch 11/250\n",
      "22/22 [==============================] - 0s 6ms/step - loss: 253181.4219\n",
      "Epoch 12/250\n",
      "22/22 [==============================] - 0s 7ms/step - loss: 252641.7188\n",
      "Epoch 13/250\n",
      "22/22 [==============================] - 0s 6ms/step - loss: 252031.5938\n",
      "Epoch 14/250\n",
      "22/22 [==============================] - 0s 6ms/step - loss: 251348.1562\n",
      "Epoch 15/250\n",
      "22/22 [==============================] - 0s 6ms/step - loss: 250578.3125\n",
      "Epoch 16/250\n",
      "22/22 [==============================] - 0s 6ms/step - loss: 249723.0469\n",
      "Epoch 17/250\n",
      "22/22 [==============================] - 0s 8ms/step - loss: 248775.8906\n",
      "Epoch 18/250\n",
      "22/22 [==============================] - 0s 7ms/step - loss: 247730.7812\n",
      "Epoch 19/250\n",
      "22/22 [==============================] - 0s 6ms/step - loss: 246587.2031\n",
      "Epoch 20/250\n",
      "22/22 [==============================] - 0s 6ms/step - loss: 245329.0469\n",
      "Epoch 21/250\n",
      "22/22 [==============================] - 0s 7ms/step - loss: 243952.7969\n",
      "Epoch 22/250\n",
      "22/22 [==============================] - 0s 6ms/step - loss: 242460.8438\n",
      "Epoch 23/250\n",
      "22/22 [==============================] - 0s 6ms/step - loss: 240841.9844\n",
      "Epoch 24/250\n",
      "22/22 [==============================] - 0s 7ms/step - loss: 239084.8438\n",
      "Epoch 25/250\n",
      "22/22 [==============================] - 0s 6ms/step - loss: 237197.2344\n",
      "Epoch 26/250\n",
      "22/22 [==============================] - 0s 6ms/step - loss: 235160.1094\n",
      "Epoch 27/250\n",
      "22/22 [==============================] - 0s 6ms/step - loss: 232970.2656\n",
      "Epoch 28/250\n",
      "22/22 [==============================] - 0s 6ms/step - loss: 230631.5938\n",
      "Epoch 29/250\n",
      "22/22 [==============================] - 0s 6ms/step - loss: 228110.9531\n",
      "Epoch 30/250\n",
      "22/22 [==============================] - 0s 6ms/step - loss: 225424.0625\n",
      "Epoch 31/250\n",
      "22/22 [==============================] - 0s 6ms/step - loss: 222560.4062\n",
      "Epoch 32/250\n",
      "22/22 [==============================] - 0s 7ms/step - loss: 219545.5156\n",
      "Epoch 33/250\n",
      "22/22 [==============================] - 0s 7ms/step - loss: 216326.2188\n",
      "Epoch 34/250\n",
      "22/22 [==============================] - 0s 6ms/step - loss: 212922.4531\n",
      "Epoch 35/250\n",
      "22/22 [==============================] - 0s 7ms/step - loss: 209340.4062\n",
      "Epoch 36/250\n",
      "22/22 [==============================] - 0s 6ms/step - loss: 205532.4375\n",
      "Epoch 37/250\n",
      "22/22 [==============================] - 0s 6ms/step - loss: 201558.4062\n",
      "Epoch 38/250\n",
      "22/22 [==============================] - 0s 7ms/step - loss: 197386.8125\n",
      "Epoch 39/250\n",
      "22/22 [==============================] - 0s 6ms/step - loss: 193010.0156\n",
      "Epoch 40/250\n",
      "22/22 [==============================] - 0s 6ms/step - loss: 188403.4531\n",
      "Epoch 41/250\n",
      "22/22 [==============================] - 0s 6ms/step - loss: 183610.4844\n",
      "Epoch 42/250\n",
      "22/22 [==============================] - 0s 6ms/step - loss: 178624.1719\n",
      "Epoch 43/250\n",
      "22/22 [==============================] - 0s 6ms/step - loss: 173442.4062\n",
      "Epoch 44/250\n",
      "22/22 [==============================] - 0s 6ms/step - loss: 168068.2812\n",
      "Epoch 45/250\n",
      "22/22 [==============================] - 0s 6ms/step - loss: 162493.6406\n",
      "Epoch 46/250\n",
      "22/22 [==============================] - 0s 7ms/step - loss: 156742.5000\n",
      "Epoch 47/250\n",
      "22/22 [==============================] - 0s 6ms/step - loss: 150787.0781\n",
      "Epoch 48/250\n",
      "22/22 [==============================] - 0s 6ms/step - loss: 144657.9375\n",
      "Epoch 49/250\n",
      "22/22 [==============================] - 0s 6ms/step - loss: 138391.1719\n",
      "Epoch 50/250\n",
      "22/22 [==============================] - 0s 6ms/step - loss: 131966.5312\n",
      "Epoch 51/250\n",
      "22/22 [==============================] - 0s 6ms/step - loss: 125420.0078\n",
      "Epoch 52/250\n",
      "22/22 [==============================] - 0s 6ms/step - loss: 118723.5547\n",
      "Epoch 53/250\n",
      "22/22 [==============================] - 0s 6ms/step - loss: 111954.9844\n",
      "Epoch 54/250\n",
      "22/22 [==============================] - 0s 6ms/step - loss: 105109.8984\n",
      "Epoch 55/250\n",
      "22/22 [==============================] - 0s 5ms/step - loss: 98173.5000\n",
      "Epoch 56/250\n",
      "22/22 [==============================] - 0s 5ms/step - loss: 91205.4766\n",
      "Epoch 57/250\n",
      "22/22 [==============================] - 0s 6ms/step - loss: 84195.8594\n",
      "Epoch 58/250\n",
      "22/22 [==============================] - 0s 8ms/step - loss: 77243.3594\n",
      "Epoch 59/250\n",
      "22/22 [==============================] - 0s 8ms/step - loss: 70356.7969\n",
      "Epoch 60/250\n",
      "22/22 [==============================] - 0s 7ms/step - loss: 63518.6797\n",
      "Epoch 61/250\n",
      "22/22 [==============================] - 0s 7ms/step - loss: 56807.6328\n",
      "Epoch 62/250\n",
      "22/22 [==============================] - 0s 6ms/step - loss: 50260.7812\n",
      "Epoch 63/250\n",
      "22/22 [==============================] - 0s 6ms/step - loss: 43928.2383\n",
      "Epoch 64/250\n",
      "22/22 [==============================] - 0s 6ms/step - loss: 37820.4805\n",
      "Epoch 65/250\n",
      "22/22 [==============================] - 0s 6ms/step - loss: 32047.3887\n",
      "Epoch 66/250\n",
      "22/22 [==============================] - 0s 7ms/step - loss: 26589.5996\n",
      "Epoch 67/250\n",
      "22/22 [==============================] - 0s 6ms/step - loss: 21640.6719\n",
      "Epoch 68/250\n",
      "22/22 [==============================] - 0s 7ms/step - loss: 17096.9395\n",
      "Epoch 69/250\n",
      "22/22 [==============================] - 0s 7ms/step - loss: 13076.8799\n",
      "Epoch 70/250\n",
      "22/22 [==============================] - 0s 7ms/step - loss: 9672.2100\n",
      "Epoch 71/250\n",
      "22/22 [==============================] - 0s 7ms/step - loss: 6910.8906\n",
      "Epoch 72/250\n",
      "22/22 [==============================] - 0s 7ms/step - loss: 4809.7075\n",
      "Epoch 73/250\n",
      "22/22 [==============================] - 0s 6ms/step - loss: 3477.6892\n",
      "Epoch 74/250\n",
      "22/22 [==============================] - 0s 6ms/step - loss: 2816.3958\n",
      "Epoch 75/250\n",
      "22/22 [==============================] - 0s 6ms/step - loss: 2600.7217\n",
      "Epoch 76/250\n",
      "22/22 [==============================] - 0s 6ms/step - loss: 2545.3889\n",
      "Epoch 77/250\n",
      "22/22 [==============================] - 0s 6ms/step - loss: 2505.5708\n",
      "Epoch 78/250\n",
      "22/22 [==============================] - 0s 6ms/step - loss: 2460.2776\n",
      "Epoch 79/250\n",
      "22/22 [==============================] - 0s 6ms/step - loss: 2418.6848\n",
      "Epoch 80/250\n",
      "22/22 [==============================] - 0s 6ms/step - loss: 2373.6680\n",
      "Epoch 81/250\n",
      "22/22 [==============================] - 0s 6ms/step - loss: 2331.5505\n",
      "Epoch 82/250\n",
      "22/22 [==============================] - 0s 6ms/step - loss: 2291.3635\n",
      "Epoch 83/250\n",
      "22/22 [==============================] - 0s 6ms/step - loss: 2247.5476\n",
      "Epoch 84/250\n",
      "22/22 [==============================] - 0s 6ms/step - loss: 2211.4265\n",
      "Epoch 85/250\n",
      "22/22 [==============================] - 0s 7ms/step - loss: 2166.6970\n",
      "Epoch 86/250\n",
      "22/22 [==============================] - 0s 7ms/step - loss: 2123.1978\n",
      "Epoch 87/250\n",
      "22/22 [==============================] - 0s 7ms/step - loss: 2086.6865\n",
      "Epoch 88/250\n",
      "22/22 [==============================] - 0s 6ms/step - loss: 2045.8971\n",
      "Epoch 89/250\n",
      "22/22 [==============================] - 0s 6ms/step - loss: 2003.2701\n",
      "Epoch 90/250\n",
      "22/22 [==============================] - 0s 7ms/step - loss: 1962.9000\n",
      "Epoch 91/250\n",
      "22/22 [==============================] - 0s 7ms/step - loss: 1923.8452\n",
      "Epoch 92/250\n",
      "22/22 [==============================] - 0s 7ms/step - loss: 1877.8280\n",
      "Epoch 93/250\n",
      "22/22 [==============================] - 0s 8ms/step - loss: 1841.2249\n",
      "Epoch 94/250\n",
      "22/22 [==============================] - 0s 7ms/step - loss: 1799.4641\n",
      "Epoch 95/250\n",
      "22/22 [==============================] - 0s 6ms/step - loss: 1762.1196\n",
      "Epoch 96/250\n",
      "22/22 [==============================] - 0s 6ms/step - loss: 1727.3984\n",
      "Epoch 97/250\n",
      "22/22 [==============================] - 0s 6ms/step - loss: 1689.9637\n",
      "Epoch 98/250\n",
      "22/22 [==============================] - 0s 6ms/step - loss: 1652.7827\n",
      "Epoch 99/250\n",
      "22/22 [==============================] - 0s 6ms/step - loss: 1616.6396\n",
      "Epoch 100/250\n",
      "22/22 [==============================] - 0s 6ms/step - loss: 1577.1971\n",
      "Epoch 101/250\n",
      "22/22 [==============================] - 0s 7ms/step - loss: 1536.9945\n",
      "Epoch 102/250\n",
      "22/22 [==============================] - 0s 7ms/step - loss: 1503.9532\n",
      "Epoch 103/250\n",
      "22/22 [==============================] - 0s 6ms/step - loss: 1466.6350\n",
      "Epoch 104/250\n",
      "22/22 [==============================] - 0s 6ms/step - loss: 1431.5020\n",
      "Epoch 105/250\n",
      "22/22 [==============================] - 0s 6ms/step - loss: 1394.4866\n",
      "Epoch 106/250\n",
      "22/22 [==============================] - 0s 6ms/step - loss: 1361.9983\n",
      "Epoch 107/250\n",
      "22/22 [==============================] - 0s 6ms/step - loss: 1327.0973\n",
      "Epoch 108/250\n",
      "22/22 [==============================] - 0s 6ms/step - loss: 1290.3506\n",
      "Epoch 109/250\n",
      "22/22 [==============================] - 0s 7ms/step - loss: 1257.3131\n",
      "Epoch 110/250\n",
      "22/22 [==============================] - 0s 6ms/step - loss: 1225.1558\n",
      "Epoch 111/250\n",
      "22/22 [==============================] - 0s 6ms/step - loss: 1187.5557\n",
      "Epoch 112/250\n",
      "22/22 [==============================] - 0s 7ms/step - loss: 1152.9058\n",
      "Epoch 113/250\n",
      "22/22 [==============================] - 0s 6ms/step - loss: 1114.1428\n",
      "Epoch 114/250\n",
      "22/22 [==============================] - 0s 6ms/step - loss: 1080.9701\n",
      "Epoch 115/250\n",
      "22/22 [==============================] - 0s 6ms/step - loss: 1042.4343\n",
      "Epoch 116/250\n",
      "22/22 [==============================] - 0s 6ms/step - loss: 1018.9275\n",
      "Epoch 117/250\n",
      "22/22 [==============================] - 0s 6ms/step - loss: 986.4122\n",
      "Epoch 118/250\n",
      "22/22 [==============================] - 0s 6ms/step - loss: 951.0831\n",
      "Epoch 119/250\n",
      "22/22 [==============================] - 0s 6ms/step - loss: 919.2303\n",
      "Epoch 120/250\n",
      "22/22 [==============================] - 0s 6ms/step - loss: 889.6071\n",
      "Epoch 121/250\n",
      "22/22 [==============================] - 0s 6ms/step - loss: 861.0241\n",
      "Epoch 122/250\n",
      "22/22 [==============================] - 0s 7ms/step - loss: 831.1287\n",
      "Epoch 123/250\n",
      "22/22 [==============================] - 0s 6ms/step - loss: 800.0646\n",
      "Epoch 124/250\n",
      "22/22 [==============================] - 0s 6ms/step - loss: 771.1522\n",
      "Epoch 125/250\n",
      "22/22 [==============================] - 0s 7ms/step - loss: 744.3152\n",
      "Epoch 126/250\n",
      "22/22 [==============================] - 0s 6ms/step - loss: 714.3013\n",
      "Epoch 127/250\n",
      "22/22 [==============================] - 0s 6ms/step - loss: 685.7976\n",
      "Epoch 128/250\n",
      "22/22 [==============================] - 0s 7ms/step - loss: 658.6923\n",
      "Epoch 129/250\n",
      "22/22 [==============================] - 0s 6ms/step - loss: 632.4379\n",
      "Epoch 130/250\n",
      "22/22 [==============================] - 0s 6ms/step - loss: 604.5778\n",
      "Epoch 131/250\n",
      "22/22 [==============================] - 0s 7ms/step - loss: 572.5756\n",
      "Epoch 132/250\n",
      "22/22 [==============================] - 0s 6ms/step - loss: 548.1534\n",
      "Epoch 133/250\n",
      "22/22 [==============================] - 0s 6ms/step - loss: 520.9381\n",
      "Epoch 134/250\n",
      "22/22 [==============================] - 0s 6ms/step - loss: 495.8814\n",
      "Epoch 135/250\n",
      "22/22 [==============================] - 0s 7ms/step - loss: 474.7864\n",
      "Epoch 136/250\n",
      "22/22 [==============================] - 0s 6ms/step - loss: 451.2735\n",
      "Epoch 137/250\n",
      "22/22 [==============================] - 0s 5ms/step - loss: 427.5394\n",
      "Epoch 138/250\n",
      "22/22 [==============================] - 0s 5ms/step - loss: 404.3512\n",
      "Epoch 139/250\n",
      "22/22 [==============================] - 0s 6ms/step - loss: 382.8966\n",
      "Epoch 140/250\n",
      "22/22 [==============================] - 0s 5ms/step - loss: 361.0423\n",
      "Epoch 141/250\n",
      "22/22 [==============================] - 0s 5ms/step - loss: 339.7135\n",
      "Epoch 142/250\n",
      "22/22 [==============================] - 0s 5ms/step - loss: 321.1247\n",
      "Epoch 143/250\n",
      "22/22 [==============================] - 0s 5ms/step - loss: 302.0273\n",
      "Epoch 144/250\n",
      "22/22 [==============================] - 0s 7ms/step - loss: 283.6304\n",
      "Epoch 145/250\n",
      "22/22 [==============================] - 0s 5ms/step - loss: 265.6547\n",
      "Epoch 146/250\n",
      "22/22 [==============================] - 0s 5ms/step - loss: 249.4597\n",
      "Epoch 147/250\n",
      "22/22 [==============================] - 0s 6ms/step - loss: 231.5753\n",
      "Epoch 148/250\n",
      "22/22 [==============================] - 0s 5ms/step - loss: 216.1379\n",
      "Epoch 149/250\n",
      "22/22 [==============================] - 0s 6ms/step - loss: 200.0529\n",
      "Epoch 150/250\n",
      "22/22 [==============================] - 0s 5ms/step - loss: 185.3626\n",
      "Epoch 151/250\n",
      "22/22 [==============================] - 0s 5ms/step - loss: 170.4505\n",
      "Epoch 152/250\n",
      "22/22 [==============================] - 0s 6ms/step - loss: 155.7502\n",
      "Epoch 153/250\n",
      "22/22 [==============================] - 0s 5ms/step - loss: 142.5466\n",
      "Epoch 154/250\n",
      "22/22 [==============================] - 0s 5ms/step - loss: 131.1632\n",
      "Epoch 155/250\n",
      "22/22 [==============================] - 0s 5ms/step - loss: 120.0201\n",
      "Epoch 156/250\n",
      "22/22 [==============================] - 0s 8ms/step - loss: 109.9633\n",
      "Epoch 157/250\n",
      "22/22 [==============================] - 0s 6ms/step - loss: 98.9886\n",
      "Epoch 158/250\n",
      "22/22 [==============================] - 0s 6ms/step - loss: 90.8419\n",
      "Epoch 159/250\n",
      "22/22 [==============================] - 0s 6ms/step - loss: 82.8500\n",
      "Epoch 160/250\n",
      "22/22 [==============================] - 0s 5ms/step - loss: 75.2058\n",
      "Epoch 161/250\n",
      "22/22 [==============================] - 0s 5ms/step - loss: 67.8483\n",
      "Epoch 162/250\n",
      "22/22 [==============================] - 0s 5ms/step - loss: 62.2255\n",
      "Epoch 163/250\n",
      "22/22 [==============================] - 0s 6ms/step - loss: 56.2851\n",
      "Epoch 164/250\n",
      "22/22 [==============================] - 0s 6ms/step - loss: 52.9212\n",
      "Epoch 165/250\n",
      "22/22 [==============================] - 0s 6ms/step - loss: 48.0866\n",
      "Epoch 166/250\n",
      "22/22 [==============================] - 0s 8ms/step - loss: 44.2421\n",
      "Epoch 167/250\n",
      "22/22 [==============================] - 0s 7ms/step - loss: 40.8593\n",
      "Epoch 168/250\n",
      "22/22 [==============================] - 0s 6ms/step - loss: 38.0033\n",
      "Epoch 169/250\n",
      "22/22 [==============================] - 0s 6ms/step - loss: 36.0124\n",
      "Epoch 170/250\n",
      "22/22 [==============================] - 0s 6ms/step - loss: 33.5846\n",
      "Epoch 171/250\n",
      "22/22 [==============================] - 0s 6ms/step - loss: 31.8254\n",
      "Epoch 172/250\n",
      "22/22 [==============================] - 0s 6ms/step - loss: 30.4934\n",
      "Epoch 173/250\n",
      "22/22 [==============================] - 0s 7ms/step - loss: 29.2691\n",
      "Epoch 174/250\n",
      "22/22 [==============================] - 0s 7ms/step - loss: 29.0079\n",
      "Epoch 175/250\n",
      "22/22 [==============================] - 0s 6ms/step - loss: 28.0107\n",
      "Epoch 176/250\n",
      "22/22 [==============================] - 0s 7ms/step - loss: 26.8158\n",
      "Epoch 177/250\n",
      "22/22 [==============================] - 0s 7ms/step - loss: 26.7066\n",
      "Epoch 178/250\n",
      "22/22 [==============================] - 0s 7ms/step - loss: 26.1122\n",
      "Epoch 179/250\n",
      "22/22 [==============================] - 0s 7ms/step - loss: 25.7295\n",
      "Epoch 180/250\n",
      "22/22 [==============================] - 0s 6ms/step - loss: 25.2397\n",
      "Epoch 181/250\n",
      "22/22 [==============================] - 0s 6ms/step - loss: 25.0236\n",
      "Epoch 182/250\n",
      "22/22 [==============================] - 0s 6ms/step - loss: 25.3812\n",
      "Epoch 183/250\n",
      "22/22 [==============================] - 0s 6ms/step - loss: 24.8252\n",
      "Epoch 184/250\n",
      "22/22 [==============================] - 0s 6ms/step - loss: 25.2450\n",
      "Epoch 185/250\n",
      "22/22 [==============================] - 0s 6ms/step - loss: 24.4939\n",
      "Epoch 186/250\n",
      "22/22 [==============================] - 0s 6ms/step - loss: 24.9070\n",
      "Epoch 187/250\n",
      "22/22 [==============================] - 0s 6ms/step - loss: 24.7509\n",
      "Epoch 188/250\n",
      "22/22 [==============================] - 0s 7ms/step - loss: 24.5727\n",
      "Epoch 189/250\n",
      "22/22 [==============================] - 0s 6ms/step - loss: 24.7057\n",
      "Epoch 190/250\n",
      "22/22 [==============================] - 0s 6ms/step - loss: 24.2117\n",
      "Epoch 191/250\n",
      "22/22 [==============================] - 0s 6ms/step - loss: 24.3906\n",
      "Epoch 192/250\n",
      "22/22 [==============================] - 0s 8ms/step - loss: 24.0879\n",
      "Epoch 193/250\n",
      "22/22 [==============================] - 0s 6ms/step - loss: 24.8481\n",
      "Epoch 194/250\n"
     ]
    },
    {
     "name": "stdout",
     "output_type": "stream",
     "text": [
      "22/22 [==============================] - 0s 7ms/step - loss: 24.6364\n",
      "Epoch 195/250\n",
      "22/22 [==============================] - 0s 6ms/step - loss: 24.2049\n",
      "Epoch 196/250\n",
      "22/22 [==============================] - 0s 6ms/step - loss: 24.5103\n",
      "Epoch 197/250\n",
      "22/22 [==============================] - 0s 6ms/step - loss: 24.3825\n",
      "Epoch 198/250\n",
      "22/22 [==============================] - 0s 6ms/step - loss: 24.4750\n",
      "Epoch 199/250\n",
      "22/22 [==============================] - 0s 6ms/step - loss: 24.5256\n",
      "Epoch 200/250\n",
      "22/22 [==============================] - 0s 6ms/step - loss: 24.3160\n",
      "Epoch 201/250\n",
      "22/22 [==============================] - 0s 7ms/step - loss: 24.5077\n",
      "Epoch 202/250\n",
      "22/22 [==============================] - 0s 7ms/step - loss: 24.4602\n",
      "Epoch 203/250\n",
      "22/22 [==============================] - 0s 6ms/step - loss: 23.9989\n",
      "Epoch 204/250\n",
      "22/22 [==============================] - 0s 6ms/step - loss: 24.8577\n",
      "Epoch 205/250\n",
      "22/22 [==============================] - 0s 6ms/step - loss: 24.3701\n",
      "Epoch 206/250\n",
      "22/22 [==============================] - 0s 6ms/step - loss: 24.2083\n",
      "Epoch 207/250\n",
      "22/22 [==============================] - 0s 6ms/step - loss: 24.3206\n",
      "Epoch 208/250\n",
      "22/22 [==============================] - 0s 6ms/step - loss: 24.2367\n",
      "Epoch 209/250\n",
      "22/22 [==============================] - 0s 6ms/step - loss: 24.3254\n",
      "Epoch 210/250\n",
      "22/22 [==============================] - 0s 6ms/step - loss: 24.5610\n",
      "Epoch 211/250\n",
      "22/22 [==============================] - 0s 6ms/step - loss: 24.3049\n",
      "Epoch 212/250\n",
      "22/22 [==============================] - 0s 6ms/step - loss: 24.3440\n",
      "Epoch 213/250\n",
      "22/22 [==============================] - 0s 6ms/step - loss: 24.3194\n",
      "Epoch 214/250\n",
      "22/22 [==============================] - 0s 6ms/step - loss: 24.1248\n",
      "Epoch 215/250\n",
      "22/22 [==============================] - 0s 6ms/step - loss: 24.4028\n",
      "Epoch 216/250\n",
      "22/22 [==============================] - 0s 6ms/step - loss: 24.6961\n",
      "Epoch 217/250\n",
      "22/22 [==============================] - 0s 7ms/step - loss: 24.1677\n",
      "Epoch 218/250\n",
      "22/22 [==============================] - 0s 6ms/step - loss: 24.1925\n",
      "Epoch 219/250\n",
      "22/22 [==============================] - 0s 6ms/step - loss: 24.6972\n",
      "Epoch 220/250\n",
      "22/22 [==============================] - 0s 6ms/step - loss: 24.3006\n",
      "Epoch 221/250\n",
      "22/22 [==============================] - 0s 6ms/step - loss: 24.1455\n",
      "Epoch 222/250\n",
      "22/22 [==============================] - 0s 6ms/step - loss: 24.7998\n",
      "Epoch 223/250\n",
      "22/22 [==============================] - 0s 6ms/step - loss: 24.4624\n",
      "Epoch 224/250\n",
      "22/22 [==============================] - 0s 6ms/step - loss: 24.1846\n",
      "Epoch 225/250\n",
      "22/22 [==============================] - 0s 6ms/step - loss: 24.2742\n",
      "Epoch 226/250\n",
      "22/22 [==============================] - 0s 7ms/step - loss: 24.3917\n",
      "Epoch 227/250\n",
      "22/22 [==============================] - 0s 6ms/step - loss: 24.5837\n",
      "Epoch 228/250\n",
      "22/22 [==============================] - 0s 6ms/step - loss: 24.4816\n",
      "Epoch 229/250\n",
      "22/22 [==============================] - 0s 6ms/step - loss: 24.5731\n",
      "Epoch 230/250\n",
      "22/22 [==============================] - 0s 6ms/step - loss: 24.0950\n",
      "Epoch 231/250\n",
      "22/22 [==============================] - 0s 6ms/step - loss: 24.0695\n",
      "Epoch 232/250\n",
      "22/22 [==============================] - 0s 6ms/step - loss: 24.7063\n",
      "Epoch 233/250\n",
      "22/22 [==============================] - 0s 6ms/step - loss: 24.3367\n",
      "Epoch 234/250\n",
      "22/22 [==============================] - 0s 6ms/step - loss: 24.2074\n",
      "Epoch 235/250\n",
      "22/22 [==============================] - 0s 7ms/step - loss: 24.5839\n",
      "Epoch 236/250\n",
      "22/22 [==============================] - 0s 6ms/step - loss: 24.3970\n",
      "Epoch 237/250\n",
      "22/22 [==============================] - 0s 6ms/step - loss: 24.3054\n",
      "Epoch 238/250\n",
      "22/22 [==============================] - 0s 6ms/step - loss: 24.5296\n",
      "Epoch 239/250\n",
      "22/22 [==============================] - 0s 6ms/step - loss: 24.7740\n",
      "Epoch 240/250\n",
      "22/22 [==============================] - 0s 6ms/step - loss: 24.4899\n",
      "Epoch 241/250\n",
      "22/22 [==============================] - 0s 6ms/step - loss: 24.4406\n",
      "Epoch 242/250\n",
      "22/22 [==============================] - 0s 7ms/step - loss: 24.2388\n",
      "Epoch 243/250\n",
      "22/22 [==============================] - 0s 6ms/step - loss: 24.4561\n",
      "Epoch 244/250\n",
      "22/22 [==============================] - 0s 7ms/step - loss: 24.6184\n",
      "Epoch 245/250\n",
      "22/22 [==============================] - 0s 5ms/step - loss: 24.5934\n",
      "Epoch 246/250\n",
      "22/22 [==============================] - 0s 5ms/step - loss: 23.8186\n",
      "Epoch 247/250\n",
      "22/22 [==============================] - 0s 6ms/step - loss: 24.4567\n",
      "Epoch 248/250\n",
      "22/22 [==============================] - 0s 5ms/step - loss: 24.3469\n",
      "Epoch 249/250\n",
      "22/22 [==============================] - 0s 6ms/step - loss: 24.1399\n",
      "Epoch 250/250\n",
      "22/22 [==============================] - 0s 6ms/step - loss: 24.4870\n"
     ]
    },
    {
     "data": {
      "text/plain": [
       "<keras.callbacks.History at 0x204077769d0>"
      ]
     },
     "execution_count": 20,
     "metadata": {},
     "output_type": "execute_result"
    }
   ],
   "source": [
    "model.fit(X_train, y_train, epochs=250)"
   ]
  },
  {
   "cell_type": "markdown",
   "id": "edc4b416",
   "metadata": {},
   "source": [
    "----------\n",
    "## Evaluation"
   ]
  },
  {
   "cell_type": "code",
   "execution_count": 21,
   "id": "3978d542",
   "metadata": {},
   "outputs": [],
   "source": [
    "losses = pd.DataFrame(model.history.history)"
   ]
  },
  {
   "cell_type": "code",
   "execution_count": 22,
   "id": "132d7ae5",
   "metadata": {},
   "outputs": [
    {
     "data": {
      "text/html": [
       "<div>\n",
       "<style scoped>\n",
       "    .dataframe tbody tr th:only-of-type {\n",
       "        vertical-align: middle;\n",
       "    }\n",
       "\n",
       "    .dataframe tbody tr th {\n",
       "        vertical-align: top;\n",
       "    }\n",
       "\n",
       "    .dataframe thead th {\n",
       "        text-align: right;\n",
       "    }\n",
       "</style>\n",
       "<table border=\"1\" class=\"dataframe\">\n",
       "  <thead>\n",
       "    <tr style=\"text-align: right;\">\n",
       "      <th></th>\n",
       "      <th>loss</th>\n",
       "    </tr>\n",
       "  </thead>\n",
       "  <tbody>\n",
       "    <tr>\n",
       "      <th>0</th>\n",
       "      <td>256315.046875</td>\n",
       "    </tr>\n",
       "    <tr>\n",
       "      <th>1</th>\n",
       "      <td>256120.359375</td>\n",
       "    </tr>\n",
       "    <tr>\n",
       "      <th>2</th>\n",
       "      <td>255921.765625</td>\n",
       "    </tr>\n",
       "    <tr>\n",
       "      <th>3</th>\n",
       "      <td>255697.875000</td>\n",
       "    </tr>\n",
       "    <tr>\n",
       "      <th>4</th>\n",
       "      <td>255445.625000</td>\n",
       "    </tr>\n",
       "    <tr>\n",
       "      <th>...</th>\n",
       "      <td>...</td>\n",
       "    </tr>\n",
       "    <tr>\n",
       "      <th>245</th>\n",
       "      <td>23.818644</td>\n",
       "    </tr>\n",
       "    <tr>\n",
       "      <th>246</th>\n",
       "      <td>24.456722</td>\n",
       "    </tr>\n",
       "    <tr>\n",
       "      <th>247</th>\n",
       "      <td>24.346933</td>\n",
       "    </tr>\n",
       "    <tr>\n",
       "      <th>248</th>\n",
       "      <td>24.139879</td>\n",
       "    </tr>\n",
       "    <tr>\n",
       "      <th>249</th>\n",
       "      <td>24.487017</td>\n",
       "    </tr>\n",
       "  </tbody>\n",
       "</table>\n",
       "<p>250 rows × 1 columns</p>\n",
       "</div>"
      ],
      "text/plain": [
       "              loss\n",
       "0    256315.046875\n",
       "1    256120.359375\n",
       "2    255921.765625\n",
       "3    255697.875000\n",
       "4    255445.625000\n",
       "..             ...\n",
       "245      23.818644\n",
       "246      24.456722\n",
       "247      24.346933\n",
       "248      24.139879\n",
       "249      24.487017\n",
       "\n",
       "[250 rows x 1 columns]"
      ]
     },
     "execution_count": 22,
     "metadata": {},
     "output_type": "execute_result"
    }
   ],
   "source": [
    "losses"
   ]
  },
  {
   "cell_type": "code",
   "execution_count": 23,
   "id": "98f5b898",
   "metadata": {},
   "outputs": [],
   "source": [
    "plt.style.use(['science', 'notebook','grid'])"
   ]
  },
  {
   "cell_type": "code",
   "execution_count": 24,
   "id": "b1d7c88f",
   "metadata": {},
   "outputs": [
    {
     "data": {
      "image/png": "[encoded data removed]",
      "text/plain": [
       "<Figure size 576x432 with 1 Axes>"
      ]
     },
     "metadata": {
      "needs_background": "light"
     },
     "output_type": "display_data"
    }
   ],
   "source": [
    "losses.plot();\n",
    "plt.title('Trainig Loss per Epochs')\n",
    "plt.show()"
   ]
  },
  {
   "cell_type": "markdown",
   "id": "77217944",
   "metadata": {},
   "source": [
    "---------\n",
    "## Compire evaluation final (MSE) on train set and test set\n",
    "\n",
    "diharapkan angkanya mendekati satu sama lain"
   ]
  },
  {
   "cell_type": "code",
   "execution_count": 25,
   "id": "d97ab61b",
   "metadata": {},
   "outputs": [
    {
     "data": {
      "text/plain": [
       "['loss']"
      ]
     },
     "execution_count": 25,
     "metadata": {},
     "output_type": "execute_result"
    }
   ],
   "source": [
    "model.metrics_names"
   ]
  },
  {
   "cell_type": "code",
   "execution_count": 26,
   "id": "0a1f79b7",
   "metadata": {},
   "outputs": [],
   "source": [
    "training_score = model.evaluate(X_train, y_train, verbose=0) # training set\n",
    "test_score = model.evaluate(X_test, y_test, verbose=0) # test set"
   ]
  },
  {
   "cell_type": "code",
   "execution_count": 27,
   "id": "0de8e607",
   "metadata": {},
   "outputs": [
    {
     "data": {
      "text/plain": [
       "24.659311294555664"
      ]
     },
     "execution_count": 27,
     "metadata": {},
     "output_type": "execute_result"
    }
   ],
   "source": [
    "training_score"
   ]
  },
  {
   "cell_type": "code",
   "execution_count": 28,
   "id": "3a789fc4",
   "metadata": {},
   "outputs": [
    {
     "data": {
      "text/plain": [
       "25.2242374420166"
      ]
     },
     "execution_count": 28,
     "metadata": {},
     "output_type": "execute_result"
    }
   ],
   "source": [
    "test_score"
   ]
  },
  {
   "cell_type": "markdown",
   "id": "c29b4edc",
   "metadata": {},
   "source": [
    "## Evaluasi lanjutan"
   ]
  },
  {
   "cell_type": "code",
   "execution_count": 29,
   "id": "e9e4ff89",
   "metadata": {},
   "outputs": [
    {
     "name": "stdout",
     "output_type": "stream",
     "text": [
      "10/10 [==============================] - 0s 5ms/step\n"
     ]
    }
   ],
   "source": [
    "test_prediction = model.predict(X_test)"
   ]
  },
  {
   "cell_type": "code",
   "execution_count": 30,
   "id": "75ee5b82",
   "metadata": {},
   "outputs": [
    {
     "data": {
      "text/plain": [
       "array([[404.6956 ],\n",
       "       [622.8378 ],\n",
       "       [591.44226],\n",
       "       [571.5572 ],\n",
       "       [366.05573],\n",
       "       [578.5016 ],\n",
       "       [514.4182 ],\n",
       "       [458.48154],\n",
       "       [548.5872 ],\n",
       "       [446.89825],\n",
       "       [611.0895 ],\n",
       "       [548.2667 ],\n",
       "       [418.50012],\n",
       "       [408.27725],\n",
       "       [650.5117 ],\n",
       "       [436.6855 ],\n",
       "       [507.7957 ],\n",
       "       [659.22424],\n",
       "       [661.8679 ],\n",
       "       [564.8588 ],\n",
       "       [333.67596],\n",
       "       [444.22128],\n",
       "       [381.94907],\n",
       "       [378.17346],\n",
       "       [565.9227 ],\n",
       "       [609.90454],\n",
       "       [531.7363 ],\n",
       "       [427.25388],\n",
       "       [654.7355 ],\n",
       "       [413.4777 ],\n",
       "       [442.01843],\n",
       "       [484.4947 ],\n",
       "       [437.80313],\n",
       "       [681.12463],\n",
       "       [424.1451 ],\n",
       "       [417.0922 ],\n",
       "       [501.27078],\n",
       "       [549.80884],\n",
       "       [509.09912],\n",
       "       [394.78168],\n",
       "       [617.88916],\n",
       "       [416.0248 ],\n",
       "       [603.7548 ],\n",
       "       [445.3361 ],\n",
       "       [501.34793],\n",
       "       [581.0197 ],\n",
       "       [668.266  ],\n",
       "       [489.7616 ],\n",
       "       [318.02142],\n",
       "       [484.7954 ],\n",
       "       [516.61334],\n",
       "       [381.2029 ],\n",
       "       [541.2373 ],\n",
       "       [407.99902],\n",
       "       [640.8064 ],\n",
       "       [490.44388],\n",
       "       [627.2526 ],\n",
       "       [626.28613],\n",
       "       [446.45627],\n",
       "       [484.07883],\n",
       "       [490.5069 ],\n",
       "       [473.90933],\n",
       "       [682.0565 ],\n",
       "       [402.70175],\n",
       "       [700.39685],\n",
       "       [585.7215 ],\n",
       "       [582.44006],\n",
       "       [537.1919 ],\n",
       "       [483.9451 ],\n",
       "       [515.9214 ],\n",
       "       [360.65176],\n",
       "       [540.0967 ],\n",
       "       [569.95935],\n",
       "       [527.78894],\n",
       "       [453.10272],\n",
       "       [530.4833 ],\n",
       "       [506.55765],\n",
       "       [442.73422],\n",
       "       [542.71094],\n",
       "       [640.03577],\n",
       "       [465.4055 ],\n",
       "       [566.58405],\n",
       "       [690.02344],\n",
       "       [458.1233 ],\n",
       "       [708.18066],\n",
       "       [472.07413],\n",
       "       [402.67612],\n",
       "       [584.4252 ],\n",
       "       [436.1366 ],\n",
       "       [488.3248 ],\n",
       "       [616.339  ],\n",
       "       [438.86075],\n",
       "       [454.72238],\n",
       "       [434.65665],\n",
       "       [506.28195],\n",
       "       [607.7615 ],\n",
       "       [321.0804 ],\n",
       "       [435.66068],\n",
       "       [535.6833 ],\n",
       "       [517.99634],\n",
       "       [604.37476],\n",
       "       [524.8009 ],\n",
       "       [333.5695 ],\n",
       "       [575.4778 ],\n",
       "       [431.19962],\n",
       "       [561.8682 ],\n",
       "       [512.76013],\n",
       "       [390.50693],\n",
       "       [565.60016],\n",
       "       [454.167  ],\n",
       "       [447.87985],\n",
       "       [640.2538 ],\n",
       "       [523.7179 ],\n",
       "       [550.01764],\n",
       "       [417.0983 ],\n",
       "       [478.11874],\n",
       "       [585.8441 ],\n",
       "       [666.66516],\n",
       "       [699.73425],\n",
       "       [658.69714],\n",
       "       [559.9    ],\n",
       "       [502.5286 ],\n",
       "       [389.78506],\n",
       "       [280.8173 ],\n",
       "       [478.98447],\n",
       "       [615.66656],\n",
       "       [372.72693],\n",
       "       [511.61893],\n",
       "       [510.40085],\n",
       "       [492.86093],\n",
       "       [479.83273],\n",
       "       [423.20462],\n",
       "       [492.8295 ],\n",
       "       [470.84842],\n",
       "       [599.74994],\n",
       "       [572.8927 ],\n",
       "       [414.38803],\n",
       "       [629.9453 ],\n",
       "       [465.74698],\n",
       "       [563.6636 ],\n",
       "       [405.09885],\n",
       "       [531.5266 ],\n",
       "       [571.9678 ],\n",
       "       [356.51895],\n",
       "       [549.18225],\n",
       "       [602.6725 ],\n",
       "       [383.72784],\n",
       "       [541.74646],\n",
       "       [561.9291 ],\n",
       "       [452.26447],\n",
       "       [631.50494],\n",
       "       [371.69492],\n",
       "       [473.64035],\n",
       "       [528.23254],\n",
       "       [371.72192],\n",
       "       [460.6316 ],\n",
       "       [435.7184 ],\n",
       "       [497.86356],\n",
       "       [345.54282],\n",
       "       [394.69992],\n",
       "       [603.89294],\n",
       "       [506.0129 ],\n",
       "       [467.99844],\n",
       "       [489.73038],\n",
       "       [534.6154 ],\n",
       "       [343.94348],\n",
       "       [511.66226],\n",
       "       [250.28372],\n",
       "       [503.45163],\n",
       "       [540.4647 ],\n",
       "       [488.7452 ],\n",
       "       [470.44928],\n",
       "       [391.96475],\n",
       "       [415.6445 ],\n",
       "       [548.9246 ],\n",
       "       [475.1829 ],\n",
       "       [579.2857 ],\n",
       "       [489.155  ],\n",
       "       [600.3197 ],\n",
       "       [546.3329 ],\n",
       "       [541.30383],\n",
       "       [499.94717],\n",
       "       [645.13794],\n",
       "       [559.7583 ],\n",
       "       [577.25   ],\n",
       "       [443.50964],\n",
       "       [414.91544],\n",
       "       [419.4539 ],\n",
       "       [568.4481 ],\n",
       "       [608.3325 ],\n",
       "       [437.14612],\n",
       "       [487.33936],\n",
       "       [587.0889 ],\n",
       "       [524.74603],\n",
       "       [356.8031 ],\n",
       "       [644.7217 ],\n",
       "       [527.39575],\n",
       "       [336.65732],\n",
       "       [492.0638 ],\n",
       "       [409.55386],\n",
       "       [605.91455],\n",
       "       [345.96277],\n",
       "       [521.7632 ],\n",
       "       [404.09653],\n",
       "       [257.9173 ],\n",
       "       [519.24646],\n",
       "       [340.32065],\n",
       "       [361.49405],\n",
       "       [575.73694],\n",
       "       [416.0699 ],\n",
       "       [550.3367 ],\n",
       "       [520.44745],\n",
       "       [510.14737],\n",
       "       [324.19827],\n",
       "       [403.57974],\n",
       "       [601.7289 ],\n",
       "       [617.1797 ],\n",
       "       [602.60913],\n",
       "       [565.61273],\n",
       "       [472.81757],\n",
       "       [459.7534 ],\n",
       "       [507.79788],\n",
       "       [445.28787],\n",
       "       [510.66208],\n",
       "       [501.76114],\n",
       "       [399.54703],\n",
       "       [604.847  ],\n",
       "       [257.62198],\n",
       "       [627.5539 ],\n",
       "       [588.4379 ],\n",
       "       [326.5877 ],\n",
       "       [478.93628],\n",
       "       [594.66394],\n",
       "       [377.81857],\n",
       "       [459.54196],\n",
       "       [324.44934],\n",
       "       [518.04065],\n",
       "       [409.0139 ],\n",
       "       [555.58484],\n",
       "       [641.18536],\n",
       "       [536.1761 ],\n",
       "       [502.53653],\n",
       "       [634.3311 ],\n",
       "       [514.595  ],\n",
       "       [531.06055],\n",
       "       [518.1917 ],\n",
       "       [456.8241 ],\n",
       "       [505.1818 ],\n",
       "       [460.48682],\n",
       "       [591.00793],\n",
       "       [465.2991 ],\n",
       "       [426.59195],\n",
       "       [540.94995],\n",
       "       [493.1744 ],\n",
       "       [678.97144],\n",
       "       [372.19583],\n",
       "       [550.9525 ],\n",
       "       [577.2948 ],\n",
       "       [433.37296],\n",
       "       [542.3764 ],\n",
       "       [585.31226],\n",
       "       [578.56555],\n",
       "       [720.20374],\n",
       "       [432.157  ],\n",
       "       [398.00357],\n",
       "       [313.4574 ],\n",
       "       [447.6793 ],\n",
       "       [387.4909 ],\n",
       "       [542.5582 ],\n",
       "       [522.0947 ],\n",
       "       [563.8075 ],\n",
       "       [447.40475],\n",
       "       [533.7547 ],\n",
       "       [381.2095 ],\n",
       "       [500.87885],\n",
       "       [636.41516],\n",
       "       [495.90317],\n",
       "       [567.7313 ],\n",
       "       [469.49814],\n",
       "       [272.76468],\n",
       "       [516.7294 ],\n",
       "       [620.713  ],\n",
       "       [349.95047],\n",
       "       [449.8481 ],\n",
       "       [498.66293],\n",
       "       [542.3208 ],\n",
       "       [611.1321 ],\n",
       "       [387.61063],\n",
       "       [448.8048 ],\n",
       "       [481.78323],\n",
       "       [597.6395 ],\n",
       "       [498.76077],\n",
       "       [320.90762],\n",
       "       [554.48596],\n",
       "       [444.02216],\n",
       "       [528.3961 ],\n",
       "       [514.7063 ],\n",
       "       [608.95514],\n",
       "       [416.34848],\n",
       "       [410.28436]], dtype=float32)"
      ]
     },
     "execution_count": 30,
     "metadata": {},
     "output_type": "execute_result"
    }
   ],
   "source": [
    "test_prediction"
   ]
  },
  {
   "cell_type": "code",
   "execution_count": 31,
   "id": "5b0662f7",
   "metadata": {},
   "outputs": [],
   "source": [
    "test_prediction = pd.Series(test_prediction.reshape(300,))"
   ]
  },
  {
   "cell_type": "code",
   "execution_count": 32,
   "id": "aff1c5b8",
   "metadata": {},
   "outputs": [
    {
     "data": {
      "text/plain": [
       "0      404.695587\n",
       "1      622.837830\n",
       "2      591.442261\n",
       "3      571.557190\n",
       "4      366.055725\n",
       "          ...    \n",
       "295    528.396118\n",
       "296    514.706299\n",
       "297    608.955139\n",
       "298    416.348480\n",
       "299    410.284363\n",
       "Length: 300, dtype: float32"
      ]
     },
     "execution_count": 32,
     "metadata": {},
     "output_type": "execute_result"
    }
   ],
   "source": [
    "test_prediction"
   ]
  },
  {
   "cell_type": "code",
   "execution_count": 33,
   "id": "d0fad39a",
   "metadata": {},
   "outputs": [],
   "source": [
    "pred_df = pd.DataFrame(y_test, columns=['Test Y'])"
   ]
  },
  {
   "cell_type": "code",
   "execution_count": 34,
   "id": "996de061",
   "metadata": {},
   "outputs": [
    {
     "data": {
      "text/html": [
       "<div>\n",
       "<style scoped>\n",
       "    .dataframe tbody tr th:only-of-type {\n",
       "        vertical-align: middle;\n",
       "    }\n",
       "\n",
       "    .dataframe tbody tr th {\n",
       "        vertical-align: top;\n",
       "    }\n",
       "\n",
       "    .dataframe thead th {\n",
       "        text-align: right;\n",
       "    }\n",
       "</style>\n",
       "<table border=\"1\" class=\"dataframe\">\n",
       "  <thead>\n",
       "    <tr style=\"text-align: right;\">\n",
       "      <th></th>\n",
       "      <th>Test Y</th>\n",
       "    </tr>\n",
       "  </thead>\n",
       "  <tbody>\n",
       "    <tr>\n",
       "      <th>0</th>\n",
       "      <td>402.296319</td>\n",
       "    </tr>\n",
       "    <tr>\n",
       "      <th>1</th>\n",
       "      <td>624.156198</td>\n",
       "    </tr>\n",
       "    <tr>\n",
       "      <th>2</th>\n",
       "      <td>582.455066</td>\n",
       "    </tr>\n",
       "    <tr>\n",
       "      <th>3</th>\n",
       "      <td>578.588606</td>\n",
       "    </tr>\n",
       "    <tr>\n",
       "      <th>4</th>\n",
       "      <td>371.224104</td>\n",
       "    </tr>\n",
       "    <tr>\n",
       "      <th>...</th>\n",
       "      <td>...</td>\n",
       "    </tr>\n",
       "    <tr>\n",
       "      <th>295</th>\n",
       "      <td>525.704657</td>\n",
       "    </tr>\n",
       "    <tr>\n",
       "      <th>296</th>\n",
       "      <td>502.909473</td>\n",
       "    </tr>\n",
       "    <tr>\n",
       "      <th>297</th>\n",
       "      <td>612.727910</td>\n",
       "    </tr>\n",
       "    <tr>\n",
       "      <th>298</th>\n",
       "      <td>417.569725</td>\n",
       "    </tr>\n",
       "    <tr>\n",
       "      <th>299</th>\n",
       "      <td>410.538250</td>\n",
       "    </tr>\n",
       "  </tbody>\n",
       "</table>\n",
       "<p>300 rows × 1 columns</p>\n",
       "</div>"
      ],
      "text/plain": [
       "         Test Y\n",
       "0    402.296319\n",
       "1    624.156198\n",
       "2    582.455066\n",
       "3    578.588606\n",
       "4    371.224104\n",
       "..          ...\n",
       "295  525.704657\n",
       "296  502.909473\n",
       "297  612.727910\n",
       "298  417.569725\n",
       "299  410.538250\n",
       "\n",
       "[300 rows x 1 columns]"
      ]
     },
     "execution_count": 34,
     "metadata": {},
     "output_type": "execute_result"
    }
   ],
   "source": [
    "pred_df "
   ]
  },
  {
   "cell_type": "code",
   "execution_count": 35,
   "id": "78fdecf9",
   "metadata": {},
   "outputs": [],
   "source": [
    "pred_df = pd.concat([pred_df,test_prediction], axis =1)"
   ]
  },
  {
   "cell_type": "code",
   "execution_count": 36,
   "id": "bcd3a95d",
   "metadata": {},
   "outputs": [
    {
     "data": {
      "text/html": [
       "<div>\n",
       "<style scoped>\n",
       "    .dataframe tbody tr th:only-of-type {\n",
       "        vertical-align: middle;\n",
       "    }\n",
       "\n",
       "    .dataframe tbody tr th {\n",
       "        vertical-align: top;\n",
       "    }\n",
       "\n",
       "    .dataframe thead th {\n",
       "        text-align: right;\n",
       "    }\n",
       "</style>\n",
       "<table border=\"1\" class=\"dataframe\">\n",
       "  <thead>\n",
       "    <tr style=\"text-align: right;\">\n",
       "      <th></th>\n",
       "      <th>Test Y</th>\n",
       "      <th>0</th>\n",
       "    </tr>\n",
       "  </thead>\n",
       "  <tbody>\n",
       "    <tr>\n",
       "      <th>0</th>\n",
       "      <td>402.296319</td>\n",
       "      <td>404.695587</td>\n",
       "    </tr>\n",
       "    <tr>\n",
       "      <th>1</th>\n",
       "      <td>624.156198</td>\n",
       "      <td>622.837830</td>\n",
       "    </tr>\n",
       "    <tr>\n",
       "      <th>2</th>\n",
       "      <td>582.455066</td>\n",
       "      <td>591.442261</td>\n",
       "    </tr>\n",
       "    <tr>\n",
       "      <th>3</th>\n",
       "      <td>578.588606</td>\n",
       "      <td>571.557190</td>\n",
       "    </tr>\n",
       "    <tr>\n",
       "      <th>4</th>\n",
       "      <td>371.224104</td>\n",
       "      <td>366.055725</td>\n",
       "    </tr>\n",
       "    <tr>\n",
       "      <th>...</th>\n",
       "      <td>...</td>\n",
       "      <td>...</td>\n",
       "    </tr>\n",
       "    <tr>\n",
       "      <th>295</th>\n",
       "      <td>525.704657</td>\n",
       "      <td>528.396118</td>\n",
       "    </tr>\n",
       "    <tr>\n",
       "      <th>296</th>\n",
       "      <td>502.909473</td>\n",
       "      <td>514.706299</td>\n",
       "    </tr>\n",
       "    <tr>\n",
       "      <th>297</th>\n",
       "      <td>612.727910</td>\n",
       "      <td>608.955139</td>\n",
       "    </tr>\n",
       "    <tr>\n",
       "      <th>298</th>\n",
       "      <td>417.569725</td>\n",
       "      <td>416.348480</td>\n",
       "    </tr>\n",
       "    <tr>\n",
       "      <th>299</th>\n",
       "      <td>410.538250</td>\n",
       "      <td>410.284363</td>\n",
       "    </tr>\n",
       "  </tbody>\n",
       "</table>\n",
       "<p>300 rows × 2 columns</p>\n",
       "</div>"
      ],
      "text/plain": [
       "         Test Y           0\n",
       "0    402.296319  404.695587\n",
       "1    624.156198  622.837830\n",
       "2    582.455066  591.442261\n",
       "3    578.588606  571.557190\n",
       "4    371.224104  366.055725\n",
       "..          ...         ...\n",
       "295  525.704657  528.396118\n",
       "296  502.909473  514.706299\n",
       "297  612.727910  608.955139\n",
       "298  417.569725  416.348480\n",
       "299  410.538250  410.284363\n",
       "\n",
       "[300 rows x 2 columns]"
      ]
     },
     "execution_count": 36,
     "metadata": {},
     "output_type": "execute_result"
    }
   ],
   "source": [
    "pred_df"
   ]
  },
  {
   "cell_type": "code",
   "execution_count": 37,
   "id": "9ea87d66",
   "metadata": {},
   "outputs": [],
   "source": [
    "pred_df.columns = ['Test Y','Model Prediction']"
   ]
  },
  {
   "cell_type": "code",
   "execution_count": 38,
   "id": "d9a1f90d",
   "metadata": {},
   "outputs": [
    {
     "data": {
      "text/html": [
       "<div>\n",
       "<style scoped>\n",
       "    .dataframe tbody tr th:only-of-type {\n",
       "        vertical-align: middle;\n",
       "    }\n",
       "\n",
       "    .dataframe tbody tr th {\n",
       "        vertical-align: top;\n",
       "    }\n",
       "\n",
       "    .dataframe thead th {\n",
       "        text-align: right;\n",
       "    }\n",
       "</style>\n",
       "<table border=\"1\" class=\"dataframe\">\n",
       "  <thead>\n",
       "    <tr style=\"text-align: right;\">\n",
       "      <th></th>\n",
       "      <th>Test Y</th>\n",
       "      <th>Model Prediction</th>\n",
       "    </tr>\n",
       "  </thead>\n",
       "  <tbody>\n",
       "    <tr>\n",
       "      <th>0</th>\n",
       "      <td>402.296319</td>\n",
       "      <td>404.695587</td>\n",
       "    </tr>\n",
       "    <tr>\n",
       "      <th>1</th>\n",
       "      <td>624.156198</td>\n",
       "      <td>622.837830</td>\n",
       "    </tr>\n",
       "    <tr>\n",
       "      <th>2</th>\n",
       "      <td>582.455066</td>\n",
       "      <td>591.442261</td>\n",
       "    </tr>\n",
       "    <tr>\n",
       "      <th>3</th>\n",
       "      <td>578.588606</td>\n",
       "      <td>571.557190</td>\n",
       "    </tr>\n",
       "    <tr>\n",
       "      <th>4</th>\n",
       "      <td>371.224104</td>\n",
       "      <td>366.055725</td>\n",
       "    </tr>\n",
       "    <tr>\n",
       "      <th>...</th>\n",
       "      <td>...</td>\n",
       "      <td>...</td>\n",
       "    </tr>\n",
       "    <tr>\n",
       "      <th>295</th>\n",
       "      <td>525.704657</td>\n",
       "      <td>528.396118</td>\n",
       "    </tr>\n",
       "    <tr>\n",
       "      <th>296</th>\n",
       "      <td>502.909473</td>\n",
       "      <td>514.706299</td>\n",
       "    </tr>\n",
       "    <tr>\n",
       "      <th>297</th>\n",
       "      <td>612.727910</td>\n",
       "      <td>608.955139</td>\n",
       "    </tr>\n",
       "    <tr>\n",
       "      <th>298</th>\n",
       "      <td>417.569725</td>\n",
       "      <td>416.348480</td>\n",
       "    </tr>\n",
       "    <tr>\n",
       "      <th>299</th>\n",
       "      <td>410.538250</td>\n",
       "      <td>410.284363</td>\n",
       "    </tr>\n",
       "  </tbody>\n",
       "</table>\n",
       "<p>300 rows × 2 columns</p>\n",
       "</div>"
      ],
      "text/plain": [
       "         Test Y  Model Prediction\n",
       "0    402.296319        404.695587\n",
       "1    624.156198        622.837830\n",
       "2    582.455066        591.442261\n",
       "3    578.588606        571.557190\n",
       "4    371.224104        366.055725\n",
       "..          ...               ...\n",
       "295  525.704657        528.396118\n",
       "296  502.909473        514.706299\n",
       "297  612.727910        608.955139\n",
       "298  417.569725        416.348480\n",
       "299  410.538250        410.284363\n",
       "\n",
       "[300 rows x 2 columns]"
      ]
     },
     "execution_count": 38,
     "metadata": {},
     "output_type": "execute_result"
    }
   ],
   "source": [
    "pred_df"
   ]
  },
  {
   "cell_type": "code",
   "execution_count": 39,
   "id": "8570a406",
   "metadata": {},
   "outputs": [
    {
     "data": {
      "image/png": "[encoded data removed]",
      "text/plain": [
       "<Figure size 576x432 with 1 Axes>"
      ]
     },
     "metadata": {
      "needs_background": "light"
     },
     "output_type": "display_data"
    }
   ],
   "source": [
    "sns.scatterplot(x='Test Y', y='Model Prediction', data=pred_df);"
   ]
  },
  {
   "cell_type": "code",
   "execution_count": 40,
   "id": "6bcca84e",
   "metadata": {},
   "outputs": [],
   "source": [
    "pred_df['Errors'] =  pred_df['Test Y'] - pred_df['Model Prediction']"
   ]
  },
  {
   "cell_type": "code",
   "execution_count": 41,
   "id": "440a4fbd",
   "metadata": {},
   "outputs": [
    {
     "name": "stderr",
     "output_type": "stream",
     "text": [
      "C:\\Users\\ibrahim\\anaconda3\\lib\\site-packages\\seaborn\\distributions.py:2619: FutureWarning: `distplot` is a deprecated function and will be removed in a future version. Please adapt your code to use either `displot` (a figure-level function with similar flexibility) or `histplot` (an axes-level function for histograms).\n",
      "  warnings.warn(msg, FutureWarning)\n"
     ]
    },
    {
     "data": {
      "image/png": "[encoded data removed]",
      "text/plain": [
       "<Figure size 576x432 with 1 Axes>"
      ]
     },
     "metadata": {
      "needs_background": "light"
     },
     "output_type": "display_data"
    }
   ],
   "source": [
    "sns.distplot(pred_df['Errors'], bins=50);"
   ]
  },
  {
   "cell_type": "markdown",
   "id": "226363f5",
   "metadata": {},
   "source": [
    "## Metrics MAE, MSE , RMSE"
   ]
  },
  {
   "cell_type": "code",
   "execution_count": 42,
   "id": "234b39eb",
   "metadata": {},
   "outputs": [],
   "source": [
    "from sklearn.metrics import mean_squared_error, mean_absolute_error"
   ]
  },
  {
   "cell_type": "code",
   "execution_count": 43,
   "id": "9cfb517c",
   "metadata": {},
   "outputs": [
    {
     "data": {
      "text/plain": [
       "4.019943150383919"
      ]
     },
     "execution_count": 43,
     "metadata": {},
     "output_type": "execute_result"
    }
   ],
   "source": [
    "MAE = mean_absolute_error(pred_df['Test Y'] , pred_df['Model Prediction'])\n",
    "MAE"
   ]
  },
  {
   "cell_type": "code",
   "execution_count": 44,
   "id": "44e506dd",
   "metadata": {},
   "outputs": [
    {
     "data": {
      "text/plain": [
       "25.22424191364895"
      ]
     },
     "execution_count": 44,
     "metadata": {},
     "output_type": "execute_result"
    }
   ],
   "source": [
    "MSE = mean_squared_error(pred_df['Test Y'] , pred_df['Model Prediction'])\n",
    "MSE"
   ]
  },
  {
   "cell_type": "code",
   "execution_count": 45,
   "id": "2a8c2c43",
   "metadata": {},
   "outputs": [
    {
     "data": {
      "text/plain": [
       "5.022374131190243"
      ]
     },
     "execution_count": 45,
     "metadata": {},
     "output_type": "execute_result"
    }
   ],
   "source": [
    "RMSE = np.sqrt(MSE)\n",
    "RMSE"
   ]
  },
  {
   "cell_type": "markdown",
   "id": "6f1f06ef",
   "metadata": {},
   "source": [
    "## Mengetahui nilai MAE baik atau buruk"
   ]
  },
  {
   "cell_type": "code",
   "execution_count": 46,
   "id": "8dd654f9",
   "metadata": {},
   "outputs": [
    {
     "data": {
      "text/html": [
       "<div>\n",
       "<style scoped>\n",
       "    .dataframe tbody tr th:only-of-type {\n",
       "        vertical-align: middle;\n",
       "    }\n",
       "\n",
       "    .dataframe tbody tr th {\n",
       "        vertical-align: top;\n",
       "    }\n",
       "\n",
       "    .dataframe thead th {\n",
       "        text-align: right;\n",
       "    }\n",
       "</style>\n",
       "<table border=\"1\" class=\"dataframe\">\n",
       "  <thead>\n",
       "    <tr style=\"text-align: right;\">\n",
       "      <th></th>\n",
       "      <th>count</th>\n",
       "      <th>mean</th>\n",
       "      <th>std</th>\n",
       "      <th>min</th>\n",
       "      <th>25%</th>\n",
       "      <th>50%</th>\n",
       "      <th>75%</th>\n",
       "      <th>max</th>\n",
       "    </tr>\n",
       "  </thead>\n",
       "  <tbody>\n",
       "    <tr>\n",
       "      <th>price</th>\n",
       "      <td>1000.0</td>\n",
       "      <td>498.673029</td>\n",
       "      <td>93.785431</td>\n",
       "      <td>223.346793</td>\n",
       "      <td>433.025732</td>\n",
       "      <td>502.382117</td>\n",
       "      <td>564.921588</td>\n",
       "      <td>774.407854</td>\n",
       "    </tr>\n",
       "    <tr>\n",
       "      <th>feature1</th>\n",
       "      <td>1000.0</td>\n",
       "      <td>1000.014171</td>\n",
       "      <td>0.974018</td>\n",
       "      <td>997.058347</td>\n",
       "      <td>999.332068</td>\n",
       "      <td>1000.009915</td>\n",
       "      <td>1000.637580</td>\n",
       "      <td>1003.207934</td>\n",
       "    </tr>\n",
       "    <tr>\n",
       "      <th>feature2</th>\n",
       "      <td>1000.0</td>\n",
       "      <td>999.979847</td>\n",
       "      <td>0.948330</td>\n",
       "      <td>996.995651</td>\n",
       "      <td>999.316106</td>\n",
       "      <td>1000.002243</td>\n",
       "      <td>1000.645380</td>\n",
       "      <td>1002.666308</td>\n",
       "    </tr>\n",
       "  </tbody>\n",
       "</table>\n",
       "</div>"
      ],
      "text/plain": [
       "           count         mean        std         min         25%          50%  \\\n",
       "price     1000.0   498.673029  93.785431  223.346793  433.025732   502.382117   \n",
       "feature1  1000.0  1000.014171   0.974018  997.058347  999.332068  1000.009915   \n",
       "feature2  1000.0   999.979847   0.948330  996.995651  999.316106  1000.002243   \n",
       "\n",
       "                  75%          max  \n",
       "price      564.921588   774.407854  \n",
       "feature1  1000.637580  1003.207934  \n",
       "feature2  1000.645380  1002.666308  "
      ]
     },
     "execution_count": 46,
     "metadata": {},
     "output_type": "execute_result"
    }
   ],
   "source": [
    "df.describe().T"
   ]
  },
  {
   "cell_type": "raw",
   "id": "d5b983f2",
   "metadata": {},
   "source": [
    "rata-rata price = 498.673029\n",
    "min price = 223.346793\n",
    "max = 774.407854\n",
    "jika nilai rata-ratanya kurang dari 1% berarti mempunyai nilai yang baik"
   ]
  },
  {
   "cell_type": "code",
   "execution_count": 47,
   "id": "e489cdaa",
   "metadata": {},
   "outputs": [
    {
     "data": {
      "text/plain": [
       "0.8024468511833133"
      ]
     },
     "execution_count": 47,
     "metadata": {},
     "output_type": "execute_result"
    }
   ],
   "source": [
    "(100 * 4.001) / 498.6"
   ]
  },
  {
   "cell_type": "markdown",
   "id": "85a42ea0",
   "metadata": {},
   "source": [
    "-------\n",
    "## Prediksi batu permata baru "
   ]
  },
  {
   "cell_type": "code",
   "execution_count": 48,
   "id": "c525de3e",
   "metadata": {},
   "outputs": [],
   "source": [
    "new_gem = [[995, 1000]]"
   ]
  },
  {
   "cell_type": "code",
   "execution_count": 49,
   "id": "8b7fe1fa",
   "metadata": {},
   "outputs": [],
   "source": [
    "new_gem = scaler.transform(new_gem)"
   ]
  },
  {
   "cell_type": "code",
   "execution_count": 50,
   "id": "3e5c47b1",
   "metadata": {},
   "outputs": [
    {
     "data": {
      "text/plain": [
       "array([[-0.35354377,  0.53968792]])"
      ]
     },
     "execution_count": 50,
     "metadata": {},
     "output_type": "execute_result"
    }
   ],
   "source": [
    "new_gem"
   ]
  },
  {
   "cell_type": "code",
   "execution_count": 51,
   "id": "31d0fb6e",
   "metadata": {},
   "outputs": [
    {
     "name": "stdout",
     "output_type": "stream",
     "text": [
      "1/1 [==============================] - 0s 62ms/step\n"
     ]
    },
    {
     "data": {
      "text/plain": [
       "array([[298.64334]], dtype=float32)"
      ]
     },
     "execution_count": 51,
     "metadata": {},
     "output_type": "execute_result"
    }
   ],
   "source": [
    "model.predict(new_gem)"
   ]
  },
  {
   "cell_type": "markdown",
   "id": "55258410",
   "metadata": {},
   "source": [
    "----------\n",
    "## saving Model"
   ]
  },
  {
   "cell_type": "code",
   "execution_count": 52,
   "id": "6cfb4c66",
   "metadata": {},
   "outputs": [],
   "source": [
    "from tensorflow.keras.models import load_model"
   ]
  },
  {
   "cell_type": "code",
   "execution_count": 53,
   "id": "9e5160bf",
   "metadata": {},
   "outputs": [],
   "source": [
    "model.save('Gemstone.h5')"
   ]
  },
  {
   "cell_type": "code",
   "execution_count": 54,
   "id": "7e1aa051",
   "metadata": {},
   "outputs": [],
   "source": [
    "later_mode = load_model('Gemstone.h5')"
   ]
  },
  {
   "cell_type": "code",
   "execution_count": 55,
   "id": "17d42dae",
   "metadata": {},
   "outputs": [
    {
     "name": "stdout",
     "output_type": "stream",
     "text": [
      "1/1 [==============================] - 0s 216ms/step\n"
     ]
    },
    {
     "data": {
      "text/plain": [
       "array([[298.64334]], dtype=float32)"
      ]
     },
     "execution_count": 55,
     "metadata": {},
     "output_type": "execute_result"
    }
   ],
   "source": [
    "later_mode.predict(new_gem)"
   ]
  },
  {
   "cell_type": "markdown",
   "id": "b7447b81",
   "metadata": {},
   "source": [
    "## Greate job!"
   ]
  }
 ],
 "metadata": {
  "kernelspec": {
   "display_name": "Python 3 (ipykernel)",
   "language": "python",
   "name": "python3"
  },
  "language_info": {
   "codemirror_mode": {
    "name": "ipython",
    "version": 3
   },
   "file_extension": ".py",
   "mimetype": "text/x-python",
   "name": "python",
   "nbconvert_exporter": "python",
   "pygments_lexer": "ipython3",
   "version": "3.9.13"
  }
 },
 "nbformat": 4,
 "nbformat_minor": 5
}
