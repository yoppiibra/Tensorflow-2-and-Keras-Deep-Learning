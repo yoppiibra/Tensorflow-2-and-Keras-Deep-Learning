{
 "cells": [
  {
   "cell_type": "markdown",
   "id": "ddfe9101",
   "metadata": {},
   "source": [
    "## Convolutional Neural Networks for Image Classification\n",
    "\n",
    "## MNIST | CNN | CLASSIFIER | TENSORFLOW | KERAS\n"
   ]
  },
  {
   "cell_type": "code",
   "execution_count": 1,
   "id": "883888ac",
   "metadata": {},
   "outputs": [],
   "source": [
    "import numpy as np\n",
    "import pandas as pd\n",
    "import matplotlib.pyplot as plt\n",
    "import seaborn as sns\n",
    "import scienceplots"
   ]
  },
  {
   "cell_type": "code",
   "execution_count": 2,
   "id": "edbb8b3d",
   "metadata": {},
   "outputs": [],
   "source": [
    "# imort dataset mnist\n",
    "from tensorflow.keras.datasets import mnist"
   ]
  },
  {
   "cell_type": "code",
   "execution_count": 3,
   "id": "1acff756",
   "metadata": {},
   "outputs": [],
   "source": [
    "(x_train, y_train),(x_test, y_test) = mnist.load_data()"
   ]
  },
  {
   "cell_type": "code",
   "execution_count": 4,
   "id": "cdf62b81",
   "metadata": {},
   "outputs": [
    {
     "data": {
      "text/plain": [
       "(60000, 28, 28)"
      ]
     },
     "execution_count": 4,
     "metadata": {},
     "output_type": "execute_result"
    }
   ],
   "source": [
    "x_train.shape"
   ]
  },
  {
   "cell_type": "code",
   "execution_count": 5,
   "id": "8b2d3b19",
   "metadata": {},
   "outputs": [
    {
     "data": {
      "text/plain": [
       "(10000, 28, 28)"
      ]
     },
     "execution_count": 5,
     "metadata": {},
     "output_type": "execute_result"
    }
   ],
   "source": [
    "x_test.shape"
   ]
  },
  {
   "cell_type": "markdown",
   "id": "71223827",
   "metadata": {},
   "source": [
    "## Visual image\n"
   ]
  },
  {
   "cell_type": "code",
   "execution_count": 6,
   "id": "4416f104",
   "metadata": {},
   "outputs": [
    {
     "data": {
      "image/png": "[encoded data removed]",
      "text/plain": [
       "<Figure size 432x288 with 1 Axes>"
      ]
     },
     "metadata": {
      "needs_background": "light"
     },
     "output_type": "display_data"
    }
   ],
   "source": [
    "plt.imshow(x_train[0]);"
   ]
  },
  {
   "cell_type": "code",
   "execution_count": 7,
   "id": "2fce9010",
   "metadata": {},
   "outputs": [
    {
     "data": {
      "image/png": "[encoded data removed]",
      "text/plain": [
       "<Figure size 432x288 with 1 Axes>"
      ]
     },
     "metadata": {
      "needs_background": "light"
     },
     "output_type": "display_data"
    }
   ],
   "source": [
    "# color default gray\n",
    "plt.imshow(x_train[0], cmap='gray');"
   ]
  },
  {
   "cell_type": "markdown",
   "id": "c1ceacec",
   "metadata": {},
   "source": [
    "## Preprocessing data y / one hot encoder / label"
   ]
  },
  {
   "cell_type": "code",
   "execution_count": 8,
   "id": "19e112e4",
   "metadata": {},
   "outputs": [
    {
     "data": {
      "text/plain": [
       "array([5, 0, 4, ..., 5, 6, 8], dtype=uint8)"
      ]
     },
     "execution_count": 8,
     "metadata": {},
     "output_type": "execute_result"
    }
   ],
   "source": [
    "y_train"
   ]
  },
  {
   "cell_type": "code",
   "execution_count": 9,
   "id": "9512318c",
   "metadata": {},
   "outputs": [
    {
     "data": {
      "text/plain": [
       "array([7, 2, 1, ..., 4, 5, 6], dtype=uint8)"
      ]
     },
     "execution_count": 9,
     "metadata": {},
     "output_type": "execute_result"
    }
   ],
   "source": [
    "y_test"
   ]
  },
  {
   "cell_type": "code",
   "execution_count": 1,
   "id": "a4d1b0b9",
   "metadata": {},
   "outputs": [],
   "source": [
    "from tensorflow.keras.utils import to_categorical"
   ]
  },
  {
   "cell_type": "code",
   "execution_count": 11,
   "id": "c9b62e2c",
   "metadata": {},
   "outputs": [],
   "source": [
    "# mencari nilai classes\n",
    "y_classes = to_categorical(y_train)"
   ]
  },
  {
   "cell_type": "code",
   "execution_count": 12,
   "id": "f7fefa68",
   "metadata": {},
   "outputs": [
    {
     "data": {
      "text/plain": [
       "(60000, 10)"
      ]
     },
     "execution_count": 12,
     "metadata": {},
     "output_type": "execute_result"
    }
   ],
   "source": [
    "y_classes.shape"
   ]
  },
  {
   "cell_type": "code",
   "execution_count": 13,
   "id": "6fa7d8a8",
   "metadata": {},
   "outputs": [
    {
     "data": {
      "text/plain": [
       "10"
      ]
     },
     "execution_count": 13,
     "metadata": {},
     "output_type": "execute_result"
    }
   ],
   "source": [
    "y_classes.shape[1]"
   ]
  },
  {
   "cell_type": "code",
   "execution_count": 14,
   "id": "93c0090a",
   "metadata": {},
   "outputs": [],
   "source": [
    "y_cat_train = to_categorical(y_train, num_classes = 10)"
   ]
  },
  {
   "cell_type": "code",
   "execution_count": 15,
   "id": "eb3cfa05",
   "metadata": {},
   "outputs": [],
   "source": [
    "y_cat_test = to_categorical(y_test, num_classes =10)"
   ]
  },
  {
   "cell_type": "markdown",
   "id": "e95a0084",
   "metadata": {},
   "source": [
    "----\n",
    "### Normalization data x "
   ]
  },
  {
   "cell_type": "code",
   "execution_count": 16,
   "id": "541d6600",
   "metadata": {},
   "outputs": [
    {
     "data": {
      "text/plain": [
       "(60000, 28, 28)"
      ]
     },
     "execution_count": 16,
     "metadata": {},
     "output_type": "execute_result"
    }
   ],
   "source": [
    "x_train.shape"
   ]
  },
  {
   "cell_type": "code",
   "execution_count": 17,
   "id": "54b12294",
   "metadata": {},
   "outputs": [
    {
     "data": {
      "text/plain": [
       "(10000, 28, 28)"
      ]
     },
     "execution_count": 17,
     "metadata": {},
     "output_type": "execute_result"
    }
   ],
   "source": [
    "x_test.shape"
   ]
  },
  {
   "cell_type": "code",
   "execution_count": 18,
   "id": "d4c6620a",
   "metadata": {},
   "outputs": [
    {
     "data": {
      "text/plain": [
       "255"
      ]
     },
     "execution_count": 18,
     "metadata": {},
     "output_type": "execute_result"
    }
   ],
   "source": [
    "x_train[0].max()"
   ]
  },
  {
   "cell_type": "code",
   "execution_count": 19,
   "id": "d4637714",
   "metadata": {},
   "outputs": [
    {
     "data": {
      "text/plain": [
       "0"
      ]
     },
     "execution_count": 19,
     "metadata": {},
     "output_type": "execute_result"
    }
   ],
   "source": [
    "x_train[0].min()"
   ]
  },
  {
   "cell_type": "code",
   "execution_count": 20,
   "id": "b1b003d0",
   "metadata": {},
   "outputs": [],
   "source": [
    "x_train = x_train/255"
   ]
  },
  {
   "cell_type": "code",
   "execution_count": 21,
   "id": "8dfdf5a0",
   "metadata": {},
   "outputs": [],
   "source": [
    "x_test = x_test/255"
   ]
  },
  {
   "cell_type": "code",
   "execution_count": 22,
   "id": "d35789a7",
   "metadata": {},
   "outputs": [
    {
     "data": {
      "text/plain": [
       "(60000, 28, 28)"
      ]
     },
     "execution_count": 22,
     "metadata": {},
     "output_type": "execute_result"
    }
   ],
   "source": [
    "x_train.shape"
   ]
  },
  {
   "cell_type": "code",
   "execution_count": 23,
   "id": "5c2879c3",
   "metadata": {},
   "outputs": [
    {
     "data": {
      "text/plain": [
       "(10000, 28, 28)"
      ]
     },
     "execution_count": 23,
     "metadata": {},
     "output_type": "execute_result"
    }
   ],
   "source": [
    "x_test.shape"
   ]
  },
  {
   "cell_type": "markdown",
   "id": "e02d47e4",
   "metadata": {},
   "source": [
    "## reshape data x\n",
    "menabahkan 1 dimensi"
   ]
  },
  {
   "cell_type": "code",
   "execution_count": 24,
   "id": "c1df24fe",
   "metadata": {},
   "outputs": [],
   "source": [
    "x_train = x_train.reshape(60000, 28, 28, 1)"
   ]
  },
  {
   "cell_type": "code",
   "execution_count": 25,
   "id": "616e1621",
   "metadata": {},
   "outputs": [],
   "source": [
    "x_test = x_test.reshape(10000, 28, 28, 1)"
   ]
  },
  {
   "cell_type": "code",
   "execution_count": 26,
   "id": "c8990546",
   "metadata": {},
   "outputs": [
    {
     "data": {
      "text/plain": [
       "(60000, 28, 28, 1)"
      ]
     },
     "execution_count": 26,
     "metadata": {},
     "output_type": "execute_result"
    }
   ],
   "source": [
    "x_train.shape"
   ]
  },
  {
   "cell_type": "code",
   "execution_count": 27,
   "id": "6deeeaa8",
   "metadata": {},
   "outputs": [
    {
     "data": {
      "text/plain": [
       "(10000, 28, 28, 1)"
      ]
     },
     "execution_count": 27,
     "metadata": {},
     "output_type": "execute_result"
    }
   ],
   "source": [
    "x_test.shape"
   ]
  },
  {
   "cell_type": "markdown",
   "id": "3912ac4b",
   "metadata": {},
   "source": [
    "## Create Model"
   ]
  },
  {
   "cell_type": "code",
   "execution_count": 28,
   "id": "7c1db618",
   "metadata": {},
   "outputs": [],
   "source": [
    "from tensorflow.keras.models import Sequential\n",
    "from tensorflow.keras.layers import Dense, Dropout\n",
    "from tensorflow.keras.layers import Conv2D, MaxPool2D, Flatten"
   ]
  },
  {
   "cell_type": "code",
   "execution_count": 29,
   "id": "1d3d0ac3",
   "metadata": {},
   "outputs": [],
   "source": [
    "model = Sequential()\n",
    "\n",
    "model.add(Conv2D(filters = 32,  kernel_size=(4,4), input_shape=(28, 28, 1), activation ='relu'))\n",
    "model.add(MaxPool2D(pool_size=(2,2)))\n",
    "model.add(Flatten())\n",
    "\n",
    "model.add(Dense(128, activation ='relu'))\n",
    "model.add(Dropout(0.2))\n",
    "model.add(Dense(10, activation ='softmax'))\n",
    "\n",
    "model.compile(loss='categorical_crossentropy', optimizer='adam', metrics =['accuracy'])"
   ]
  },
  {
   "cell_type": "code",
   "execution_count": 30,
   "id": "2885c70d",
   "metadata": {},
   "outputs": [
    {
     "name": "stdout",
     "output_type": "stream",
     "text": [
      "Model: \"sequential\"\n",
      "_________________________________________________________________\n",
      " Layer (type)                Output Shape              Param #   \n",
      "=================================================================\n",
      " conv2d (Conv2D)             (None, 25, 25, 32)        544       \n",
      "                                                                 \n",
      " max_pooling2d (MaxPooling2D  (None, 12, 12, 32)       0         \n",
      " )                                                               \n",
      "                                                                 \n",
      " flatten (Flatten)           (None, 4608)              0         \n",
      "                                                                 \n",
      " dense (Dense)               (None, 128)               589952    \n",
      "                                                                 \n",
      " dropout (Dropout)           (None, 128)               0         \n",
      "                                                                 \n",
      " dense_1 (Dense)             (None, 10)                1290      \n",
      "                                                                 \n",
      "=================================================================\n",
      "Total params: 591,786\n",
      "Trainable params: 591,786\n",
      "Non-trainable params: 0\n",
      "_________________________________________________________________\n"
     ]
    }
   ],
   "source": [
    "model.summary()"
   ]
  },
  {
   "cell_type": "markdown",
   "id": "58fa886f",
   "metadata": {},
   "source": [
    "## EarlyStopping"
   ]
  },
  {
   "cell_type": "code",
   "execution_count": 31,
   "id": "d380e97f",
   "metadata": {},
   "outputs": [],
   "source": [
    "from tensorflow.keras.callbacks import EarlyStopping"
   ]
  },
  {
   "cell_type": "code",
   "execution_count": 32,
   "id": "b7c815b3",
   "metadata": {},
   "outputs": [],
   "source": [
    "early_stop = EarlyStopping(monitor='val_loss', patience =2)"
   ]
  },
  {
   "cell_type": "markdown",
   "id": "3ca6f35f",
   "metadata": {},
   "source": [
    "----\n",
    "## Fitting Model"
   ]
  },
  {
   "cell_type": "code",
   "execution_count": 33,
   "id": "4ccd807d",
   "metadata": {},
   "outputs": [
    {
     "name": "stdout",
     "output_type": "stream",
     "text": [
      "Epoch 1/20\n",
      "1875/1875 [==============================] - 66s 33ms/step - loss: 0.1580 - accuracy: 0.9521 - val_loss: 0.0518 - val_accuracy: 0.9830\n",
      "Epoch 2/20\n",
      "1875/1875 [==============================] - 58s 31ms/step - loss: 0.0576 - accuracy: 0.9823 - val_loss: 0.0419 - val_accuracy: 0.9857\n",
      "Epoch 3/20\n",
      "1875/1875 [==============================] - 58s 31ms/step - loss: 0.0422 - accuracy: 0.9865 - val_loss: 0.0384 - val_accuracy: 0.9871\n",
      "Epoch 4/20\n",
      "1875/1875 [==============================] - 59s 32ms/step - loss: 0.0311 - accuracy: 0.9898 - val_loss: 0.0329 - val_accuracy: 0.9887\n",
      "Epoch 5/20\n",
      "1875/1875 [==============================] - 59s 31ms/step - loss: 0.0229 - accuracy: 0.9928 - val_loss: 0.0323 - val_accuracy: 0.9895\n",
      "Epoch 6/20\n",
      "1875/1875 [==============================] - 58s 31ms/step - loss: 0.0189 - accuracy: 0.9937 - val_loss: 0.0328 - val_accuracy: 0.9884\n",
      "Epoch 7/20\n",
      "1875/1875 [==============================] - 59s 32ms/step - loss: 0.0155 - accuracy: 0.9948 - val_loss: 0.0313 - val_accuracy: 0.9910\n",
      "Epoch 8/20\n",
      "1875/1875 [==============================] - 60s 32ms/step - loss: 0.0135 - accuracy: 0.9956 - val_loss: 0.0376 - val_accuracy: 0.9890\n",
      "Epoch 9/20\n",
      "1875/1875 [==============================] - 58s 31ms/step - loss: 0.0113 - accuracy: 0.9959 - val_loss: 0.0401 - val_accuracy: 0.9886\n"
     ]
    },
    {
     "data": {
      "text/plain": [
       "<keras.callbacks.History at 0x263dc26bb20>"
      ]
     },
     "execution_count": 33,
     "metadata": {},
     "output_type": "execute_result"
    }
   ],
   "source": [
    "model.fit(x_train, y_cat_train, \n",
    "          epochs = 20, \n",
    "          validation_data = (x_test, y_cat_test), \n",
    "          callbacks =[early_stop])"
   ]
  },
  {
   "cell_type": "markdown",
   "id": "4ea841a1",
   "metadata": {},
   "source": [
    "## Evaluation"
   ]
  },
  {
   "cell_type": "code",
   "execution_count": 34,
   "id": "7da7ebf8",
   "metadata": {},
   "outputs": [],
   "source": [
    "losses = pd.DataFrame(model.history.history)"
   ]
  },
  {
   "cell_type": "code",
   "execution_count": 35,
   "id": "d774684a",
   "metadata": {},
   "outputs": [
    {
     "data": {
      "text/html": [
       "<div>\n",
       "<style scoped>\n",
       "    .dataframe tbody tr th:only-of-type {\n",
       "        vertical-align: middle;\n",
       "    }\n",
       "\n",
       "    .dataframe tbody tr th {\n",
       "        vertical-align: top;\n",
       "    }\n",
       "\n",
       "    .dataframe thead th {\n",
       "        text-align: right;\n",
       "    }\n",
       "</style>\n",
       "<table border=\"1\" class=\"dataframe\">\n",
       "  <thead>\n",
       "    <tr style=\"text-align: right;\">\n",
       "      <th></th>\n",
       "      <th>loss</th>\n",
       "      <th>accuracy</th>\n",
       "      <th>val_loss</th>\n",
       "      <th>val_accuracy</th>\n",
       "    </tr>\n",
       "  </thead>\n",
       "  <tbody>\n",
       "    <tr>\n",
       "      <th>0</th>\n",
       "      <td>0.157964</td>\n",
       "      <td>0.952150</td>\n",
       "      <td>0.051802</td>\n",
       "      <td>0.9830</td>\n",
       "    </tr>\n",
       "    <tr>\n",
       "      <th>1</th>\n",
       "      <td>0.057567</td>\n",
       "      <td>0.982350</td>\n",
       "      <td>0.041885</td>\n",
       "      <td>0.9857</td>\n",
       "    </tr>\n",
       "    <tr>\n",
       "      <th>2</th>\n",
       "      <td>0.042178</td>\n",
       "      <td>0.986467</td>\n",
       "      <td>0.038378</td>\n",
       "      <td>0.9871</td>\n",
       "    </tr>\n",
       "    <tr>\n",
       "      <th>3</th>\n",
       "      <td>0.031133</td>\n",
       "      <td>0.989850</td>\n",
       "      <td>0.032929</td>\n",
       "      <td>0.9887</td>\n",
       "    </tr>\n",
       "    <tr>\n",
       "      <th>4</th>\n",
       "      <td>0.022926</td>\n",
       "      <td>0.992800</td>\n",
       "      <td>0.032275</td>\n",
       "      <td>0.9895</td>\n",
       "    </tr>\n",
       "    <tr>\n",
       "      <th>5</th>\n",
       "      <td>0.018896</td>\n",
       "      <td>0.993700</td>\n",
       "      <td>0.032823</td>\n",
       "      <td>0.9884</td>\n",
       "    </tr>\n",
       "    <tr>\n",
       "      <th>6</th>\n",
       "      <td>0.015549</td>\n",
       "      <td>0.994800</td>\n",
       "      <td>0.031278</td>\n",
       "      <td>0.9910</td>\n",
       "    </tr>\n",
       "    <tr>\n",
       "      <th>7</th>\n",
       "      <td>0.013503</td>\n",
       "      <td>0.995567</td>\n",
       "      <td>0.037625</td>\n",
       "      <td>0.9890</td>\n",
       "    </tr>\n",
       "    <tr>\n",
       "      <th>8</th>\n",
       "      <td>0.011291</td>\n",
       "      <td>0.995933</td>\n",
       "      <td>0.040080</td>\n",
       "      <td>0.9886</td>\n",
       "    </tr>\n",
       "  </tbody>\n",
       "</table>\n",
       "</div>"
      ],
      "text/plain": [
       "       loss  accuracy  val_loss  val_accuracy\n",
       "0  0.157964  0.952150  0.051802        0.9830\n",
       "1  0.057567  0.982350  0.041885        0.9857\n",
       "2  0.042178  0.986467  0.038378        0.9871\n",
       "3  0.031133  0.989850  0.032929        0.9887\n",
       "4  0.022926  0.992800  0.032275        0.9895\n",
       "5  0.018896  0.993700  0.032823        0.9884\n",
       "6  0.015549  0.994800  0.031278        0.9910\n",
       "7  0.013503  0.995567  0.037625        0.9890\n",
       "8  0.011291  0.995933  0.040080        0.9886"
      ]
     },
     "execution_count": 35,
     "metadata": {},
     "output_type": "execute_result"
    }
   ],
   "source": [
    "losses"
   ]
  },
  {
   "cell_type": "code",
   "execution_count": 36,
   "id": "5eac2558",
   "metadata": {},
   "outputs": [],
   "source": [
    "plt.style.use(['science','notebook','grid'])"
   ]
  },
  {
   "cell_type": "code",
   "execution_count": 37,
   "id": "bf3b80b0",
   "metadata": {},
   "outputs": [
    {
     "data": {
      "image/png": "[encoded data removed]",
      "text/plain": [
       "<Figure size 576x432 with 1 Axes>"
      ]
     },
     "metadata": {
      "needs_background": "light"
     },
     "output_type": "display_data"
    }
   ],
   "source": [
    "losses[['loss','val_loss']].plot();\n",
    "plt.title('Cross entropy loss');"
   ]
  },
  {
   "cell_type": "code",
   "execution_count": 38,
   "id": "1f76249e",
   "metadata": {},
   "outputs": [
    {
     "data": {
      "image/png": "[encoded data removed]",
      "text/plain": [
       "<Figure size 576x432 with 1 Axes>"
      ]
     },
     "metadata": {
      "needs_background": "light"
     },
     "output_type": "display_data"
    }
   ],
   "source": [
    "losses[['accuracy','val_accuracy']].plot();\n",
    "plt.title('Accuracy');"
   ]
  },
  {
   "cell_type": "markdown",
   "id": "84a4fc43",
   "metadata": {},
   "source": [
    "## Prediction"
   ]
  },
  {
   "cell_type": "code",
   "execution_count": 39,
   "id": "3cae6c21",
   "metadata": {},
   "outputs": [
    {
     "name": "stdout",
     "output_type": "stream",
     "text": [
      "313/313 [==============================] - 3s 9ms/step\n"
     ]
    }
   ],
   "source": [
    "prediction = np.argmax(model.predict(x_test), axis=-1)"
   ]
  },
  {
   "cell_type": "code",
   "execution_count": 40,
   "id": "d8544554",
   "metadata": {},
   "outputs": [
    {
     "data": {
      "text/plain": [
       "(10000, 10)"
      ]
     },
     "execution_count": 40,
     "metadata": {},
     "output_type": "execute_result"
    }
   ],
   "source": [
    "y_cat_test.shape"
   ]
  },
  {
   "cell_type": "code",
   "execution_count": 41,
   "id": "3d14991d",
   "metadata": {},
   "outputs": [
    {
     "data": {
      "text/plain": [
       "array([0., 0., 0., 0., 0., 0., 0., 1., 0., 0.], dtype=float32)"
      ]
     },
     "execution_count": 41,
     "metadata": {},
     "output_type": "execute_result"
    }
   ],
   "source": [
    "y_cat_test[0]"
   ]
  },
  {
   "cell_type": "code",
   "execution_count": 42,
   "id": "5723e598",
   "metadata": {},
   "outputs": [
    {
     "data": {
      "text/plain": [
       "array([7, 2, 1, ..., 4, 5, 6], dtype=int64)"
      ]
     },
     "execution_count": 42,
     "metadata": {},
     "output_type": "execute_result"
    }
   ],
   "source": [
    "prediction "
   ]
  },
  {
   "cell_type": "markdown",
   "id": "868cc243",
   "metadata": {},
   "source": [
    "## Evaluation metrics"
   ]
  },
  {
   "cell_type": "code",
   "execution_count": 43,
   "id": "e71c3564",
   "metadata": {},
   "outputs": [],
   "source": [
    "from sklearn.metrics import classification_report, confusion_matrix"
   ]
  },
  {
   "cell_type": "code",
   "execution_count": 44,
   "id": "ddf39672",
   "metadata": {},
   "outputs": [
    {
     "name": "stdout",
     "output_type": "stream",
     "text": [
      "              precision    recall  f1-score   support\n",
      "\n",
      "           0       0.99      0.99      0.99       980\n",
      "           1       0.99      0.99      0.99      1135\n",
      "           2       0.98      1.00      0.99      1032\n",
      "           3       1.00      0.99      0.99      1010\n",
      "           4       0.99      0.98      0.99       982\n",
      "           5       0.98      1.00      0.99       892\n",
      "           6       0.99      0.98      0.99       958\n",
      "           7       0.99      0.99      0.99      1028\n",
      "           8       0.99      0.98      0.98       974\n",
      "           9       0.98      0.99      0.98      1009\n",
      "\n",
      "    accuracy                           0.99     10000\n",
      "   macro avg       0.99      0.99      0.99     10000\n",
      "weighted avg       0.99      0.99      0.99     10000\n",
      "\n"
     ]
    }
   ],
   "source": [
    "print(classification_report(y_test, prediction))"
   ]
  },
  {
   "cell_type": "code",
   "execution_count": 45,
   "id": "0ed90deb",
   "metadata": {},
   "outputs": [
    {
     "data": {
      "text/plain": [
       "array([[ 972,    0,    3,    0,    0,    1,    1,    1,    1,    1],\n",
       "       [   0, 1129,    3,    0,    0,    0,    1,    1,    1,    0],\n",
       "       [   0,    0, 1028,    0,    0,    0,    1,    3,    0,    0],\n",
       "       [   0,    0,    3, 1000,    0,    5,    0,    0,    1,    1],\n",
       "       [   0,    1,    1,    0,  967,    0,    4,    0,    0,    9],\n",
       "       [   0,    0,    0,    1,    0,  888,    1,    0,    2,    0],\n",
       "       [   4,    2,    0,    0,    1,    5,  942,    0,    4,    0],\n",
       "       [   1,    3,    9,    0,    0,    0,    0, 1013,    0,    2],\n",
       "       [   3,    1,    7,    1,    0,    3,    0,    2,  952,    5],\n",
       "       [   0,    1,    0,    1,    5,    3,    0,    3,    1,  995]],\n",
       "      dtype=int64)"
      ]
     },
     "execution_count": 45,
     "metadata": {},
     "output_type": "execute_result"
    }
   ],
   "source": [
    "confusion_matrix(y_test, prediction)"
   ]
  },
  {
   "cell_type": "code",
   "execution_count": 46,
   "id": "1c66c4b5",
   "metadata": {},
   "outputs": [
    {
     "data": {
      "image/png": "[encoded data removed]",
      "text/plain": [
       "<Figure size 1200x600 with 2 Axes>"
      ]
     },
     "metadata": {
      "needs_background": "light"
     },
     "output_type": "display_data"
    }
   ],
   "source": [
    "plt.figure(figsize=(12, 6), dpi=100)\n",
    "sns.heatmap(confusion_matrix(y_test, prediction), annot=True, lw=2, cmap='viridis');"
   ]
  },
  {
   "cell_type": "markdown",
   "id": "36b005b4",
   "metadata": {},
   "source": [
    "## Prediction image"
   ]
  },
  {
   "cell_type": "code",
   "execution_count": 47,
   "id": "f07dd98a",
   "metadata": {},
   "outputs": [],
   "source": [
    "my_number = x_test[5]"
   ]
  },
  {
   "cell_type": "code",
   "execution_count": 48,
   "id": "01356be9",
   "metadata": {},
   "outputs": [
    {
     "data": {
      "image/png": "[encoded data removed]",
      "text/plain": [
       "<Figure size 576x432 with 1 Axes>"
      ]
     },
     "metadata": {
      "needs_background": "light"
     },
     "output_type": "display_data"
    }
   ],
   "source": [
    "plt.imshow(my_number);"
   ]
  },
  {
   "cell_type": "code",
   "execution_count": 49,
   "id": "09cb133c",
   "metadata": {},
   "outputs": [
    {
     "name": "stdout",
     "output_type": "stream",
     "text": [
      "1/1 [==============================] - 0s 78ms/step\n"
     ]
    }
   ],
   "source": [
    "predict = np.argmax(model.predict(my_number.reshape(1, 28,28,1)), axis=-1)"
   ]
  },
  {
   "cell_type": "code",
   "execution_count": 50,
   "id": "5a746f16",
   "metadata": {},
   "outputs": [
    {
     "data": {
      "text/plain": [
       "array([1], dtype=int64)"
      ]
     },
     "execution_count": 50,
     "metadata": {},
     "output_type": "execute_result"
    }
   ],
   "source": [
    "predict"
   ]
  },
  {
   "cell_type": "markdown",
   "id": "72ef5791",
   "metadata": {},
   "source": [
    "## Save Model"
   ]
  },
  {
   "cell_type": "code",
   "execution_count": 51,
   "id": "6c6da94c",
   "metadata": {},
   "outputs": [],
   "source": [
    "from tensorflow.keras.models import load_model"
   ]
  },
  {
   "cell_type": "code",
   "execution_count": 52,
   "id": "1eebbaa2",
   "metadata": {},
   "outputs": [],
   "source": [
    "model.save('mnist.h5')"
   ]
  },
  {
   "cell_type": "markdown",
   "id": "fc30edb9",
   "metadata": {},
   "source": [
    "## Great job!"
   ]
  }
 ],
 "metadata": {
  "kernelspec": {
   "display_name": "Python 3 (ipykernel)",
   "language": "python",
   "name": "python3"
  },
  "language_info": {
   "codemirror_mode": {
    "name": "ipython",
    "version": 3
   },
   "file_extension": ".py",
   "mimetype": "text/x-python",
   "name": "python",
   "nbconvert_exporter": "python",
   "pygments_lexer": "ipython3",
   "version": "3.9.13"
  }
 },
 "nbformat": 4,
 "nbformat_minor": 5
}
