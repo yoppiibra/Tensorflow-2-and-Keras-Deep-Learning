{
 "cells": [
  {
   "cell_type": "markdown",
   "id": "dc884e21",
   "metadata": {},
   "source": [
    "# AutoEncoders on Image Data\n",
    "For Fashion MNST dataset, images are 28x28 and dimensions of 784, which is basically 784 features.\n",
    "\n",
    "## This is a good way to use Autoencoder.\n",
    "What we gonna do is\n",
    "\n",
    "- pass the image through Autoencoder\n",
    "- Then have the Autoencoder attempt to recreat the image as the output.\n",
    "Bascially Autoencoder will attempt to learn what pixels are important when encoded it down to smaller hidden layers, then use those to recreate when decoding.\n",
    "\n",
    "However this is not very useful though.\n",
    "\n",
    "## What useful is removing Noises.\n",
    "Noises are real world problem. So using Autoencoder to remove nosies will be a Great way to use. The same logic is applied.\n",
    "\n",
    "pass the image through Autoencoder\n",
    "Then hopefully Autoencoder will learn what features are important in reconstruct the correct images without the noises.\n",
    "We will create both Autoencoders."
   ]
  },
  {
   "cell_type": "code",
   "execution_count": 1,
   "id": "6201327d",
   "metadata": {},
   "outputs": [],
   "source": [
    "import numpy as np\n",
    "import pandas as pd\n",
    "import matplotlib.pyplot as plt\n",
    "import seaborn as sns"
   ]
  },
  {
   "cell_type": "code",
   "execution_count": 2,
   "id": "fcf8d4fb",
   "metadata": {},
   "outputs": [],
   "source": [
    "from tensorflow.keras.datasets import mnist"
   ]
  },
  {
   "cell_type": "code",
   "execution_count": 3,
   "id": "a8b0b81e",
   "metadata": {},
   "outputs": [],
   "source": [
    "(x_train, y_train),(x_test, y_test) = mnist.load_data()"
   ]
  },
  {
   "cell_type": "code",
   "execution_count": 4,
   "id": "84dd659a",
   "metadata": {},
   "outputs": [
    {
     "data": {
      "image/png": "[encoded data removed]",
      "text/plain": [
       "<Figure size 640x480 with 1 Axes>"
      ]
     },
     "metadata": {},
     "output_type": "display_data"
    }
   ],
   "source": [
    "plt.imshow(x_train[9]);"
   ]
  },
  {
   "cell_type": "markdown",
   "id": "1aea340d",
   "metadata": {},
   "source": [
    "## Scaled the data"
   ]
  },
  {
   "cell_type": "code",
   "execution_count": 5,
   "id": "c53ad429",
   "metadata": {},
   "outputs": [
    {
     "data": {
      "text/plain": [
       "(28, 28)"
      ]
     },
     "execution_count": 5,
     "metadata": {},
     "output_type": "execute_result"
    }
   ],
   "source": [
    "x_train[0].shape"
   ]
  },
  {
   "cell_type": "markdown",
   "id": "089ca481",
   "metadata": {},
   "source": [
    "## <a>Why do we divide by 255?\n",
    "Since 255 is the maximum value, dividing by 255 expresses a 0-1 representation. Each channel (Red, Green, and Blue are each channels) is 8 bits, so they are each limited to 256, in this case 255 since 0 is included."
   ]
  },
  {
   "cell_type": "code",
   "execution_count": 6,
   "id": "bbe31f64",
   "metadata": {},
   "outputs": [
    {
     "data": {
      "text/plain": [
       "255"
      ]
     },
     "execution_count": 6,
     "metadata": {},
     "output_type": "execute_result"
    }
   ],
   "source": [
    "x_train[0].max()"
   ]
  },
  {
   "cell_type": "code",
   "execution_count": 7,
   "id": "dd34adcb",
   "metadata": {},
   "outputs": [],
   "source": [
    "x_train = x_train/255\n",
    "x_test = x_test/255"
   ]
  },
  {
   "cell_type": "markdown",
   "id": "d40aa720",
   "metadata": {},
   "source": [
    "---------\n",
    "------\n",
    "# <a> Part 1. Build AutoEncoder"
   ]
  },
  {
   "cell_type": "code",
   "execution_count": 8,
   "id": "32c6c630",
   "metadata": {},
   "outputs": [],
   "source": [
    "from tensorflow.keras.models import Sequential\n",
    "from tensorflow.keras.layers import Dense, Flatten, Reshape\n",
    "from tensorflow.keras.optimizers import SGD"
   ]
  },
  {
   "cell_type": "code",
   "execution_count": 9,
   "id": "cc1bad64",
   "metadata": {},
   "outputs": [
    {
     "data": {
      "text/plain": [
       "(28, 28)"
      ]
     },
     "execution_count": 9,
     "metadata": {},
     "output_type": "execute_result"
    }
   ],
   "source": [
    "x_train[0].shape"
   ]
  },
  {
   "cell_type": "code",
   "execution_count": 10,
   "id": "556611f1",
   "metadata": {},
   "outputs": [
    {
     "data": {
      "text/plain": [
       "784"
      ]
     },
     "execution_count": 10,
     "metadata": {},
     "output_type": "execute_result"
    }
   ],
   "source": [
    "28*28"
   ]
  },
  {
   "cell_type": "code",
   "execution_count": 11,
   "id": "bc58d427",
   "metadata": {},
   "outputs": [
    {
     "data": {
      "text/plain": [
       "392.0"
      ]
     },
     "execution_count": 11,
     "metadata": {},
     "output_type": "execute_result"
    }
   ],
   "source": [
    "784/2 # reduced by halp"
   ]
  },
  {
   "cell_type": "markdown",
   "id": "728ffd2b",
   "metadata": {},
   "source": [
    "## <a> Build Encoder"
   ]
  },
  {
   "cell_type": "code",
   "execution_count": 12,
   "id": "82e80891",
   "metadata": {},
   "outputs": [],
   "source": [
    "encoder = Sequential() \n",
    "\n",
    "encoder.add(Flatten(input_shape =[28,28])) # flatten this from (28, 28) to 784\n",
    "\n",
    "encoder.add(Dense(400, activation='relu')) # reduce to halp => 784 to 400\n",
    "encoder.add(Dense(200, activation='relu')) # reduce to halp => 400 to 200\n",
    "encoder.add(Dense(100, activation='relu')) # reduce to halp => 200 to 100\n",
    "encoder.add(Dense(50, activation='relu')) # reduce to halp => 100 to 50\n",
    "encoder.add(Dense(25, activation='relu')) # reduce to halp => 50 to 25 (reduced to 3% of original dimensions)"
   ]
  },
  {
   "cell_type": "markdown",
   "id": "07c0edbf",
   "metadata": {},
   "source": [
    "## <a>Building Decoder\n",
    "- Now we are basically reversing what encoder has done\n",
    "    \n",
    "- when we decode, we need to skip the Central layer (which is the last layer of encoder; in our case 25 neurons one)\n",
    "    \n",
    "## <a>We need to use sigmoid in second to last layer\n",
    "    \n",
    "- we are using Binarycrossentropy loss at the end of our autoencoder, checking whether the output image (after going through all encoders) matched the original image.\n",
    "    \n",
    "## <a>Why we use Binarycrossentropy for loss?\n",
    "    \n",
    "- Autoencoder doesn't care how many types of distinct numbers are or classes.\n",
    "    \n",
    "- All it cares it the image I am producing at the output going to match the image that is originally put as input."
   ]
  },
  {
   "cell_type": "markdown",
   "id": "42aefb36",
   "metadata": {},
   "source": [
    "# <a> Build Decoder"
   ]
  },
  {
   "cell_type": "code",
   "execution_count": 13,
   "id": "888616e8",
   "metadata": {},
   "outputs": [],
   "source": [
    "decoder = Sequential()\n",
    "\n",
    "decoder.add(Dense(50, input_shape=[25], activation='relu')) #  here we use input_shape as 25 which is the last layer of our encoder\n",
    "decoder.add(Dense(100, activation='relu'))\n",
    "decoder.add(Dense(200, activation='relu'))\n",
    "decoder.add(Dense(400, activation='relu'))\n",
    "decoder.add(Dense(28*28, activation='sigmoid')) #   # activation needs to be sigmoid because we are using binarycrossentropy loss\n",
    "\n",
    "decoder.add(Reshape([28, 28]))"
   ]
  },
  {
   "cell_type": "markdown",
   "id": "6e7017fb",
   "metadata": {},
   "source": [
    "# <a> Combining Encoder + Decoder as AutoDecoder"
   ]
  },
  {
   "cell_type": "code",
   "execution_count": 14,
   "id": "3d3c290b",
   "metadata": {},
   "outputs": [],
   "source": [
    "autoencoder = Sequential([encoder, decoder])\n",
    "\n",
    "autoencoder.compile(loss='binary_crossentropy', \n",
    "                    optimizer= SGD(learning_rate=1.5), \n",
    "                    metrics =['accuracy'])"
   ]
  },
  {
   "cell_type": "markdown",
   "id": "404dcdff",
   "metadata": {},
   "source": [
    "# <a> Training AutoEncoder\n",
    "    \n",
    "\n",
    "Take note that AutoEncoder is semi-supervised learning. It is not actually trying to predict the classification or anything. All it doing is trying to learn the important features and reduce the dimensionality.\n",
    "\n",
    "So when giving input and ouput for fitting is different from supervised learning ones."
   ]
  },
  {
   "cell_type": "code",
   "execution_count": 15,
   "id": "8b05f9d5",
   "metadata": {},
   "outputs": [
    {
     "data": {
      "text/plain": [
       "(60000, 28, 28)"
      ]
     },
     "execution_count": 15,
     "metadata": {},
     "output_type": "execute_result"
    }
   ],
   "source": [
    "x_train.shape"
   ]
  },
  {
   "cell_type": "code",
   "execution_count": 16,
   "id": "ae590df4",
   "metadata": {},
   "outputs": [
    {
     "name": "stdout",
     "output_type": "stream",
     "text": [
      "Epoch 1/5\n",
      "1875/1875 [==============================] - 41s 18ms/step - loss: 0.2547 - accuracy: 0.0817 - val_loss: 0.2327 - val_accuracy: 0.0952\n",
      "Epoch 2/5\n",
      "1875/1875 [==============================] - 34s 18ms/step - loss: 0.1960 - accuracy: 0.1506 - val_loss: 0.1749 - val_accuracy: 0.1734\n",
      "Epoch 3/5\n",
      "1875/1875 [==============================] - 38s 20ms/step - loss: 0.1637 - accuracy: 0.1919 - val_loss: 0.1517 - val_accuracy: 0.2072\n",
      "Epoch 4/5\n",
      "1875/1875 [==============================] - 39s 21ms/step - loss: 0.1501 - accuracy: 0.2098 - val_loss: 0.1447 - val_accuracy: 0.2089\n",
      "Epoch 5/5\n",
      "1875/1875 [==============================] - 40s 21ms/step - loss: 0.1432 - accuracy: 0.2208 - val_loss: 0.1390 - val_accuracy: 0.2274\n"
     ]
    },
    {
     "data": {
      "text/plain": [
       "<keras.src.callbacks.History at 0x1cf070d9f70>"
      ]
     },
     "execution_count": 16,
     "metadata": {},
     "output_type": "execute_result"
    }
   ],
   "source": [
    "autoencoder.fit(x_train, x_train, \n",
    "                epochs = 5, \n",
    "                validation_data = (x_test, x_test))"
   ]
  },
  {
   "cell_type": "markdown",
   "id": "acc8c866",
   "metadata": {},
   "source": [
    "----------\n",
    "----------"
   ]
  },
  {
   "cell_type": "markdown",
   "id": "d157c258",
   "metadata": {},
   "source": [
    "# <a> Check how images look like after passing through AutoEncoder\n",
    "We will pass 10 images that AutoEncoder **DOES NOT TRAINED ON.**\n",
    "\n",
    "Let's see how autoencoder predicts(attempts to reconstruct after reducing the dimensionality) those images."
   ]
  },
  {
   "cell_type": "code",
   "execution_count": 17,
   "id": "e9d069b3",
   "metadata": {},
   "outputs": [
    {
     "name": "stdout",
     "output_type": "stream",
     "text": [
      "1/1 [==============================] - 0s 388ms/step\n"
     ]
    }
   ],
   "source": [
    "passed_image = autoencoder.predict(x_test[:10])"
   ]
  },
  {
   "cell_type": "code",
   "execution_count": 18,
   "id": "f0800ec9",
   "metadata": {},
   "outputs": [
    {
     "name": "stdout",
     "output_type": "stream",
     "text": [
      "image original\n"
     ]
    },
    {
     "data": {
      "image/png": "[encoded data removed]",
      "text/plain": [
       "<Figure size 640x480 with 1 Axes>"
      ]
     },
     "metadata": {},
     "output_type": "display_data"
    },
    {
     "name": "stdout",
     "output_type": "stream",
     "text": [
      "after autoencoder\n"
     ]
    },
    {
     "data": {
      "image/png": "[encoded data removed]",
      "text/plain": [
       "<Figure size 640x480 with 1 Axes>"
      ]
     },
     "metadata": {},
     "output_type": "display_data"
    }
   ],
   "source": [
    "n = 0\n",
    "print('image original')\n",
    "plt.imshow(x_test[n])\n",
    "plt.show()\n",
    "\n",
    "print('after autoencoder')\n",
    "plt.imshow(passed_image[n])\n",
    "plt.show();"
   ]
  },
  {
   "cell_type": "markdown",
   "id": "2003f6b7",
   "metadata": {},
   "source": [
    "-------------\n",
    "-------------\n",
    "# <a>PART II: AutoEncoders for Denoising Images\n",
    "## Demo for adding nosies\n",
    "- There are many way to add noise into images. For the sake of convinence, we will use GaussianNoise\n",
    "    \n",
    "- The larger value we choose for std parameter, the more noise will be added."
   ]
  },
  {
   "cell_type": "code",
   "execution_count": 19,
   "id": "8fe2ed77",
   "metadata": {},
   "outputs": [],
   "source": [
    "from tensorflow.keras.layers import GaussianNoise"
   ]
  },
  {
   "cell_type": "code",
   "execution_count": 20,
   "id": "40d6ad03",
   "metadata": {},
   "outputs": [],
   "source": [
    "sample = GaussianNoise(0.2) # the higher the std value, the nosier"
   ]
  },
  {
   "cell_type": "code",
   "execution_count": 21,
   "id": "f0708719",
   "metadata": {},
   "outputs": [],
   "source": [
    "noise = sample(x_test[:10], training=True) # training on the first 10 images of Test dataset"
   ]
  },
  {
   "cell_type": "code",
   "execution_count": 22,
   "id": "5675143b",
   "metadata": {},
   "outputs": [
    {
     "name": "stdout",
     "output_type": "stream",
     "text": [
      "Original image\n"
     ]
    },
    {
     "data": {
      "image/png": "[encoded data removed]",
      "text/plain": [
       "<Figure size 640x480 with 1 Axes>"
      ]
     },
     "metadata": {},
     "output_type": "display_data"
    },
    {
     "name": "stdout",
     "output_type": "stream",
     "text": [
      "Using GaussianNoise\n"
     ]
    },
    {
     "data": {
      "image/png": "[encoded data removed]",
      "text/plain": [
       "<Figure size 640x480 with 1 Axes>"
      ]
     },
     "metadata": {},
     "output_type": "display_data"
    }
   ],
   "source": [
    "n = 3\n",
    "\n",
    "print('Original image')\n",
    "plt.imshow(x_test[n])\n",
    "plt.show()\n",
    "\n",
    "print('Using GaussianNoise')\n",
    "plt.imshow(noise[n])\n",
    "plt.show();"
   ]
  },
  {
   "cell_type": "markdown",
   "id": "c4242d14",
   "metadata": {},
   "source": [
    "## Build noise removal autoencoder"
   ]
  },
  {
   "cell_type": "code",
   "execution_count": 23,
   "id": "1c0fdda0",
   "metadata": {},
   "outputs": [],
   "source": [
    "import tensorflow as tf"
   ]
  },
  {
   "cell_type": "code",
   "execution_count": 24,
   "id": "b92ffb9c",
   "metadata": {},
   "outputs": [],
   "source": [
    "tf.random.set_seed(101)"
   ]
  },
  {
   "cell_type": "markdown",
   "id": "f1531d57",
   "metadata": {},
   "source": [
    "##  <a> Encoder"
   ]
  },
  {
   "cell_type": "code",
   "execution_count": 25,
   "id": "2d75392a",
   "metadata": {},
   "outputs": [],
   "source": [
    "encoder = Sequential()\n",
    "\n",
    "encoder.add(Flatten(input_shape=[28,28]))\n",
    "\n",
    "encoder.add(GaussianNoise(0.2)) # Add noise to images before going through autoencoder\n",
    "\n",
    "encoder.add(Dense(400, activation='relu'))\n",
    "encoder.add(Dense(200, activation='relu'))\n",
    "encoder.add(Dense(100, activation='relu'))\n",
    "encoder.add(Dense(50, activation='relu'))\n",
    "encoder.add(Dense(25, activation='relu'))"
   ]
  },
  {
   "cell_type": "markdown",
   "id": "3dfcafcc",
   "metadata": {},
   "source": [
    "## <a> Decoder"
   ]
  },
  {
   "cell_type": "code",
   "execution_count": 26,
   "id": "55630c3d",
   "metadata": {},
   "outputs": [],
   "source": [
    "decoder = Sequential()\n",
    "\n",
    "decoder.add(Dense(50, input_shape=[25], activation='relu'))\n",
    "decoder.add(Dense(100, activation='relu'))\n",
    "decoder.add(Dense(200, activation='relu'))\n",
    "decoder.add(Dense(400, activation='relu'))\n",
    "decoder.add(Dense(784, activation='sigmoid'))\n",
    "\n",
    "decoder.add(Reshape([28,28]))"
   ]
  },
  {
   "cell_type": "markdown",
   "id": "a67bee5f",
   "metadata": {},
   "source": [
    "# <a> Combine Encoder and Decoder as Noise Remover AutoEncoder"
   ]
  },
  {
   "cell_type": "code",
   "execution_count": 27,
   "id": "ca5d82a1",
   "metadata": {},
   "outputs": [],
   "source": [
    "noise_remover = Sequential([encoder, decoder])"
   ]
  },
  {
   "cell_type": "code",
   "execution_count": 28,
   "id": "c41c4512",
   "metadata": {},
   "outputs": [],
   "source": [
    "# compile \n",
    "noise_remover.compile(loss='binary_crossentropy', \n",
    "                      optimizer=SGD(learning_rate=1.5), \n",
    "                      metrics=['accuracy'])"
   ]
  },
  {
   "cell_type": "markdown",
   "id": "8d3a8f43",
   "metadata": {},
   "source": [
    "## <a> Train Noise Remover AutoEncoder"
   ]
  },
  {
   "cell_type": "code",
   "execution_count": 29,
   "id": "5c7cec20",
   "metadata": {},
   "outputs": [
    {
     "name": "stdout",
     "output_type": "stream",
     "text": [
      "Epoch 1/8\n",
      "1875/1875 [==============================] - 62s 22ms/step - loss: 0.2548 - accuracy: 0.0796 - val_loss: 0.2184 - val_accuracy: 0.1147\n",
      "Epoch 2/8\n",
      "1875/1875 [==============================] - 42s 22ms/step - loss: 0.2049 - accuracy: 0.1347 - val_loss: 0.1808 - val_accuracy: 0.1649\n",
      "Epoch 3/8\n",
      "1875/1875 [==============================] - 44s 23ms/step - loss: 0.1702 - accuracy: 0.1813 - val_loss: 0.1535 - val_accuracy: 0.1985\n",
      "Epoch 4/8\n",
      "1875/1875 [==============================] - 45s 24ms/step - loss: 0.1533 - accuracy: 0.2039 - val_loss: 0.1453 - val_accuracy: 0.2116\n",
      "Epoch 5/8\n",
      "1875/1875 [==============================] - 43s 23ms/step - loss: 0.1459 - accuracy: 0.2162 - val_loss: 0.1400 - val_accuracy: 0.2194\n",
      "Epoch 6/8\n",
      "1875/1875 [==============================] - 44s 23ms/step - loss: 0.1399 - accuracy: 0.2264 - val_loss: 0.1371 - val_accuracy: 0.2320\n",
      "Epoch 7/8\n",
      "1875/1875 [==============================] - 49s 26ms/step - loss: 0.1358 - accuracy: 0.2320 - val_loss: 0.1349 - val_accuracy: 0.2356\n",
      "Epoch 8/8\n",
      "1875/1875 [==============================] - 46s 25ms/step - loss: 0.1327 - accuracy: 0.2366 - val_loss: 0.1293 - val_accuracy: 0.2391\n"
     ]
    },
    {
     "data": {
      "text/plain": [
       "<keras.src.callbacks.History at 0x1cf08a28bb0>"
      ]
     },
     "execution_count": 29,
     "metadata": {},
     "output_type": "execute_result"
    }
   ],
   "source": [
    "noise_remover.fit(x_train, x_train, \n",
    "                  epochs = 8, \n",
    "                  validation_data=(x_test, x_test))"
   ]
  },
  {
   "cell_type": "markdown",
   "id": "895ff6bd",
   "metadata": {},
   "source": [
    "# <a>Check how Noisey Images are handled"
   ]
  },
  {
   "cell_type": "code",
   "execution_count": 30,
   "id": "4aa0c41e",
   "metadata": {},
   "outputs": [],
   "source": [
    "ten_noise_image = sample(x_test[:10], training =True)"
   ]
  },
  {
   "cell_type": "code",
   "execution_count": 31,
   "id": "3fb962ea",
   "metadata": {},
   "outputs": [],
   "source": [
    "denoise = noise_remover(ten_noise_image)"
   ]
  },
  {
   "cell_type": "code",
   "execution_count": 32,
   "id": "c8c17832",
   "metadata": {},
   "outputs": [
    {
     "name": "stdout",
     "output_type": "stream",
     "text": [
      "Original Image\n"
     ]
    },
    {
     "data": {
      "image/png": "[encoded data removed]",
      "text/plain": [
       "<Figure size 640x480 with 1 Axes>"
      ]
     },
     "metadata": {},
     "output_type": "display_data"
    },
    {
     "name": "stdout",
     "output_type": "stream",
     "text": [
      "Noise Image\n"
     ]
    },
    {
     "data": {
      "image/png": "[encoded data removed]",
      "text/plain": [
       "<Figure size 640x480 with 1 Axes>"
      ]
     },
     "metadata": {},
     "output_type": "display_data"
    },
    {
     "name": "stdout",
     "output_type": "stream",
     "text": [
      "After Noise Removal from AutoEncoder\n"
     ]
    },
    {
     "data": {
      "image/png": "[encoded data removed]",
      "text/plain": [
       "<Figure size 640x480 with 1 Axes>"
      ]
     },
     "metadata": {},
     "output_type": "display_data"
    }
   ],
   "source": [
    "n = 1\n",
    "\n",
    "print('Original Image')\n",
    "plt.imshow(x_test[n])\n",
    "plt.show()\n",
    "\n",
    "print('Noise Image')\n",
    "plt.imshow(noise[n])\n",
    "plt.show()\n",
    "\n",
    "print('After Noise Removal from AutoEncoder')\n",
    "plt.imshow(denoise[n])\n",
    "plt.show()\n"
   ]
  },
  {
   "cell_type": "code",
   "execution_count": null,
   "id": "5ae48281",
   "metadata": {},
   "outputs": [],
   "source": []
  }
 ],
 "metadata": {
  "kernelspec": {
   "display_name": "Python 3 (ipykernel)",
   "language": "python",
   "name": "python3"
  },
  "language_info": {
   "codemirror_mode": {
    "name": "ipython",
    "version": 3
   },
   "file_extension": ".py",
   "mimetype": "text/x-python",
   "name": "python",
   "nbconvert_exporter": "python",
   "pygments_lexer": "ipython3",
   "version": "3.9.13"
  }
 },
 "nbformat": 4,
 "nbformat_minor": 5
}
